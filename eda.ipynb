{
  "cells": [
    {
      "cell_type": "code",
      "execution_count": null,
      "metadata": {
        "id": "ptGdMbOv-MgK"
      },
      "outputs": [],
      "source": [
        "import pandas as pd"
      ]
    },
    {
      "cell_type": "code",
      "execution_count": null,
      "metadata": {
        "id": "wbFZuRkd-MgM"
      },
      "outputs": [],
      "source": [
        "ordenes = pd.read_csv('./ordenes.csv',sep='|')"
      ]
    },
    {
      "cell_type": "code",
      "execution_count": null,
      "metadata": {
        "id": "e18vYGZ2-MgN",
        "outputId": "1d0a9850-ad26-4305-f0fa-23f740af45a1"
      },
      "outputs": [
        {
          "name": "stdout",
          "output_type": "stream",
          "text": [
            "<class 'pandas.core.frame.DataFrame'>\n",
            "RangeIndex: 445 entries, 0 to 444\n",
            "Data columns (total 13 columns):\n",
            " #   Column                     Non-Null Count  Dtype  \n",
            "---  ------                     --------------  -----  \n",
            " 0   idu_ArticuloCodigo         445 non-null    int64  \n",
            " 1   flag_Estatus               445 non-null    int64  \n",
            " 2   des_Area                   445 non-null    object \n",
            " 3   des_Categoria              445 non-null    object \n",
            " 4   des_Subcategoria           445 non-null    object \n",
            " 5   num_Cantidad               445 non-null    int64  \n",
            " 6   sec_Orden                  445 non-null    int64  \n",
            " 7   sec_OrdenCommerce          445 non-null    int64  \n",
            " 8   fec_FechaOrden             445 non-null    object \n",
            " 9   idu_BodegaCodigo           149 non-null    float64\n",
            " 10  flag_Promocion             445 non-null    bool   \n",
            " 11  imp_PrecioContadoUnitario  445 non-null    float64\n",
            " 12  imp_DescuentoPromocion     445 non-null    float64\n",
            "dtypes: bool(1), float64(3), int64(5), object(4)\n",
            "memory usage: 42.3+ KB\n"
          ]
        }
      ],
      "source": [
        "ordenes.info()"
      ]
    },
    {
      "cell_type": "code",
      "execution_count": null,
      "metadata": {
        "id": "bofkc5Gi-MgO",
        "outputId": "6229872b-16e1-4a21-eea9-391771df8dda"
      },
      "outputs": [
        {
          "data": {
            "text/plain": [
              "array(['Muebles', 'Ropa'], dtype=object)"
            ]
          },
          "execution_count": 8,
          "metadata": {},
          "output_type": "execute_result"
        }
      ],
      "source": [
        "ordenes.des_Area.unique()"
      ]
    },
    {
      "cell_type": "code",
      "execution_count": null,
      "metadata": {
        "id": "yrSeh6Xp-MgO",
        "outputId": "e52391eb-e405-44a7-cb88-283d136029c7"
      },
      "outputs": [
        {
          "data": {
            "text/plain": [
              "array(['Bebés', 'Camas', 'Salas', 'Muebles de Jardín', 'Decoración',\n",
              "       'Colchones', 'Muebles para Recamara', 'Cocción', 'Automotriz',\n",
              "       'Audio', 'Cómputo', 'Lencería', 'Outdoor', 'Caballero Exterior',\n",
              "       'Juguetes', 'Electrodomésticos', 'Blancos', 'Audio Personal',\n",
              "       'Comedor', 'Deportivo', 'Refrigeración', 'Joyería',\n",
              "       'Interior y Calceteria', 'Relojería', 'Lente solar', 'Dama Joven',\n",
              "       'Car Audio', 'Artículos de Oficina', 'VideoJuegos', 'Video',\n",
              "       'Cuidado Personal', 'Niños', 'Teléfonos Celulares', 'Equipaje',\n",
              "       'Outdoor Enseres Domésticos', 'Cámaras', 'Oficina', 'Accesorios',\n",
              "       'Clima de Verano', 'Herramientas', 'Niñas', 'Muebles de Cocina',\n",
              "       'Caballeros Accesorios', 'Zapato Caballero', 'Zapato Dama',\n",
              "       'Dama Señora', 'Zapato Infantil'], dtype=object)"
            ]
          },
          "execution_count": 10,
          "metadata": {},
          "output_type": "execute_result"
        }
      ],
      "source": [
        "ordenes.des_Subcategoria.unique()"
      ]
    },
    {
      "cell_type": "code",
      "execution_count": null,
      "metadata": {
        "id": "cNwCRxRd-MgP",
        "outputId": "5e9ca1ff-36dd-4a36-cd7a-f63b03a7ad2d"
      },
      "outputs": [
        {
          "data": {
            "text/html": [
              "<div>\n",
              "<style scoped>\n",
              "    .dataframe tbody tr th:only-of-type {\n",
              "        vertical-align: middle;\n",
              "    }\n",
              "\n",
              "    .dataframe tbody tr th {\n",
              "        vertical-align: top;\n",
              "    }\n",
              "\n",
              "    .dataframe thead th {\n",
              "        text-align: right;\n",
              "    }\n",
              "</style>\n",
              "<table border=\"1\" class=\"dataframe\">\n",
              "  <thead>\n",
              "    <tr style=\"text-align: right;\">\n",
              "      <th></th>\n",
              "      <th>idu_ArticuloCodigo</th>\n",
              "      <th>flag_Estatus</th>\n",
              "      <th>des_Area</th>\n",
              "      <th>des_Categoria</th>\n",
              "      <th>des_Subcategoria</th>\n",
              "      <th>num_Cantidad</th>\n",
              "      <th>sec_Orden</th>\n",
              "      <th>sec_OrdenCommerce</th>\n",
              "      <th>fec_FechaOrden</th>\n",
              "      <th>idu_BodegaCodigo</th>\n",
              "      <th>flag_Promocion</th>\n",
              "      <th>imp_PrecioContadoUnitario</th>\n",
              "      <th>imp_DescuentoPromocion</th>\n",
              "    </tr>\n",
              "  </thead>\n",
              "  <tbody>\n",
              "    <tr>\n",
              "      <th>0</th>\n",
              "      <td>507202</td>\n",
              "      <td>1</td>\n",
              "      <td>Muebles</td>\n",
              "      <td>Bebés</td>\n",
              "      <td>Bebés</td>\n",
              "      <td>1</td>\n",
              "      <td>1195043</td>\n",
              "      <td>4484389</td>\n",
              "      <td>2018-01-01T11:33:46.253000</td>\n",
              "      <td>30011.0</td>\n",
              "      <td>False</td>\n",
              "      <td>1809.48</td>\n",
              "      <td>0.00</td>\n",
              "    </tr>\n",
              "    <tr>\n",
              "      <th>1</th>\n",
              "      <td>526223</td>\n",
              "      <td>1</td>\n",
              "      <td>Muebles</td>\n",
              "      <td>Bebés</td>\n",
              "      <td>Bebés</td>\n",
              "      <td>1</td>\n",
              "      <td>1195097</td>\n",
              "      <td>4484817</td>\n",
              "      <td>2018-01-01T13:53:03.890000</td>\n",
              "      <td>30014.0</td>\n",
              "      <td>True</td>\n",
              "      <td>2262.93</td>\n",
              "      <td>753.45</td>\n",
              "    </tr>\n",
              "    <tr>\n",
              "      <th>2</th>\n",
              "      <td>526541</td>\n",
              "      <td>1</td>\n",
              "      <td>Muebles</td>\n",
              "      <td>Bebés</td>\n",
              "      <td>Bebés</td>\n",
              "      <td>1</td>\n",
              "      <td>1195267</td>\n",
              "      <td>4486351</td>\n",
              "      <td>2018-01-01T18:26:02.803000</td>\n",
              "      <td>30020.0</td>\n",
              "      <td>False</td>\n",
              "      <td>2930.17</td>\n",
              "      <td>0.00</td>\n",
              "    </tr>\n",
              "    <tr>\n",
              "      <th>3</th>\n",
              "      <td>526541</td>\n",
              "      <td>1</td>\n",
              "      <td>Muebles</td>\n",
              "      <td>Bebés</td>\n",
              "      <td>Bebés</td>\n",
              "      <td>1</td>\n",
              "      <td>1195263</td>\n",
              "      <td>4486338</td>\n",
              "      <td>2018-01-01T18:23:11.757000</td>\n",
              "      <td>30006.0</td>\n",
              "      <td>False</td>\n",
              "      <td>2930.17</td>\n",
              "      <td>0.00</td>\n",
              "    </tr>\n",
              "    <tr>\n",
              "      <th>4</th>\n",
              "      <td>347949</td>\n",
              "      <td>1</td>\n",
              "      <td>Muebles</td>\n",
              "      <td>Muebles de Hogar y Recamara</td>\n",
              "      <td>Camas</td>\n",
              "      <td>1</td>\n",
              "      <td>1195075</td>\n",
              "      <td>4484742</td>\n",
              "      <td>2018-01-01T13:15:39.440000</td>\n",
              "      <td>30013.0</td>\n",
              "      <td>False</td>\n",
              "      <td>1723.28</td>\n",
              "      <td>0.00</td>\n",
              "    </tr>\n",
              "    <tr>\n",
              "      <th>5</th>\n",
              "      <td>446726</td>\n",
              "      <td>1</td>\n",
              "      <td>Muebles</td>\n",
              "      <td>Muebles de Hogar y Recamara</td>\n",
              "      <td>Salas</td>\n",
              "      <td>1</td>\n",
              "      <td>1193665</td>\n",
              "      <td>4471730</td>\n",
              "      <td>2017-12-29T20:41:16.747000</td>\n",
              "      <td>30006.0</td>\n",
              "      <td>False</td>\n",
              "      <td>4740.52</td>\n",
              "      <td>0.00</td>\n",
              "    </tr>\n",
              "    <tr>\n",
              "      <th>6</th>\n",
              "      <td>486043</td>\n",
              "      <td>1</td>\n",
              "      <td>Muebles</td>\n",
              "      <td>Muebles de Hogar y Recamara</td>\n",
              "      <td>Salas</td>\n",
              "      <td>1</td>\n",
              "      <td>1193468</td>\n",
              "      <td>4467660</td>\n",
              "      <td>2017-12-29T16:19:02.353000</td>\n",
              "      <td>30017.0</td>\n",
              "      <td>False</td>\n",
              "      <td>7326.72</td>\n",
              "      <td>0.00</td>\n",
              "    </tr>\n",
              "    <tr>\n",
              "      <th>7</th>\n",
              "      <td>486043</td>\n",
              "      <td>1</td>\n",
              "      <td>Muebles</td>\n",
              "      <td>Muebles de Hogar y Recamara</td>\n",
              "      <td>Salas</td>\n",
              "      <td>1</td>\n",
              "      <td>1195151</td>\n",
              "      <td>4485364</td>\n",
              "      <td>2018-01-01T15:26:53.177000</td>\n",
              "      <td>NaN</td>\n",
              "      <td>False</td>\n",
              "      <td>7326.72</td>\n",
              "      <td>0.00</td>\n",
              "    </tr>\n",
              "    <tr>\n",
              "      <th>8</th>\n",
              "      <td>343137</td>\n",
              "      <td>1</td>\n",
              "      <td>Muebles</td>\n",
              "      <td>Terraza y Jardín</td>\n",
              "      <td>Muebles de Jardín</td>\n",
              "      <td>1</td>\n",
              "      <td>1195346</td>\n",
              "      <td>4487075</td>\n",
              "      <td>2018-01-01T20:43:35.570000</td>\n",
              "      <td>30011.0</td>\n",
              "      <td>False</td>\n",
              "      <td>1378.45</td>\n",
              "      <td>0.00</td>\n",
              "    </tr>\n",
              "    <tr>\n",
              "      <th>9</th>\n",
              "      <td>456641</td>\n",
              "      <td>1</td>\n",
              "      <td>Muebles</td>\n",
              "      <td>Decoración</td>\n",
              "      <td>Decoración</td>\n",
              "      <td>1</td>\n",
              "      <td>1195378</td>\n",
              "      <td>4487291</td>\n",
              "      <td>2018-01-01T21:22:00.957000</td>\n",
              "      <td>30002.0</td>\n",
              "      <td>False</td>\n",
              "      <td>128.45</td>\n",
              "      <td>0.00</td>\n",
              "    </tr>\n",
              "  </tbody>\n",
              "</table>\n",
              "</div>"
            ],
            "text/plain": [
              "   idu_ArticuloCodigo  flag_Estatus des_Area                des_Categoria  \\\n",
              "0              507202             1  Muebles                        Bebés   \n",
              "1              526223             1  Muebles                        Bebés   \n",
              "2              526541             1  Muebles                        Bebés   \n",
              "3              526541             1  Muebles                        Bebés   \n",
              "4              347949             1  Muebles  Muebles de Hogar y Recamara   \n",
              "5              446726             1  Muebles  Muebles de Hogar y Recamara   \n",
              "6              486043             1  Muebles  Muebles de Hogar y Recamara   \n",
              "7              486043             1  Muebles  Muebles de Hogar y Recamara   \n",
              "8              343137             1  Muebles             Terraza y Jardín   \n",
              "9              456641             1  Muebles                   Decoración   \n",
              "\n",
              "    des_Subcategoria  num_Cantidad  sec_Orden  sec_OrdenCommerce  \\\n",
              "0              Bebés             1    1195043            4484389   \n",
              "1              Bebés             1    1195097            4484817   \n",
              "2              Bebés             1    1195267            4486351   \n",
              "3              Bebés             1    1195263            4486338   \n",
              "4              Camas             1    1195075            4484742   \n",
              "5              Salas             1    1193665            4471730   \n",
              "6              Salas             1    1193468            4467660   \n",
              "7              Salas             1    1195151            4485364   \n",
              "8  Muebles de Jardín             1    1195346            4487075   \n",
              "9         Decoración             1    1195378            4487291   \n",
              "\n",
              "               fec_FechaOrden  idu_BodegaCodigo  flag_Promocion  \\\n",
              "0  2018-01-01T11:33:46.253000           30011.0           False   \n",
              "1  2018-01-01T13:53:03.890000           30014.0            True   \n",
              "2  2018-01-01T18:26:02.803000           30020.0           False   \n",
              "3  2018-01-01T18:23:11.757000           30006.0           False   \n",
              "4  2018-01-01T13:15:39.440000           30013.0           False   \n",
              "5  2017-12-29T20:41:16.747000           30006.0           False   \n",
              "6  2017-12-29T16:19:02.353000           30017.0           False   \n",
              "7  2018-01-01T15:26:53.177000               NaN           False   \n",
              "8  2018-01-01T20:43:35.570000           30011.0           False   \n",
              "9  2018-01-01T21:22:00.957000           30002.0           False   \n",
              "\n",
              "   imp_PrecioContadoUnitario  imp_DescuentoPromocion  \n",
              "0                    1809.48                    0.00  \n",
              "1                    2262.93                  753.45  \n",
              "2                    2930.17                    0.00  \n",
              "3                    2930.17                    0.00  \n",
              "4                    1723.28                    0.00  \n",
              "5                    4740.52                    0.00  \n",
              "6                    7326.72                    0.00  \n",
              "7                    7326.72                    0.00  \n",
              "8                    1378.45                    0.00  \n",
              "9                     128.45                    0.00  "
            ]
          },
          "execution_count": 12,
          "metadata": {},
          "output_type": "execute_result"
        }
      ],
      "source": [
        "ordenes.head(10)"
      ]
    },
    {
      "cell_type": "code",
      "execution_count": null,
      "metadata": {
        "id": "nL8PMFQf-MgQ",
        "outputId": "fb248e13-cc90-491e-c172-dbc5bfcbc09c"
      },
      "outputs": [
        {
          "name": "stderr",
          "output_type": "stream",
          "text": [
            "C:\\Users\\MELENDEZ DL SANTOS\\AppData\\Local\\Temp\\ipykernel_13664\\4125837249.py:1: FutureWarning: A value is trying to be set on a copy of a DataFrame or Series through chained assignment using an inplace method.\n",
            "The behavior will change in pandas 3.0. This inplace method will never work because the intermediate object on which we are setting values always behaves as a copy.\n",
            "\n",
            "For example, when doing 'df[col].method(value, inplace=True)', try using 'df.method({col: value}, inplace=True)' or df[col] = df[col].method(value) instead, to perform the operation inplace on the original object.\n",
            "\n",
            "\n",
            "  ordenes.idu_BodegaCodigo.fillna(9999,inplace=True)\n"
          ]
        }
      ],
      "source": [
        "ordenes.idu_BodegaCodigo.fillna(9999,inplace=True)"
      ]
    },
    {
      "cell_type": "code",
      "execution_count": null,
      "metadata": {
        "id": "0gbgpAxH-MgQ",
        "outputId": "d62964b4-8f8f-4e6a-9109-87a0da58187a"
      },
      "outputs": [
        {
          "data": {
            "text/html": [
              "<div>\n",
              "<style scoped>\n",
              "    .dataframe tbody tr th:only-of-type {\n",
              "        vertical-align: middle;\n",
              "    }\n",
              "\n",
              "    .dataframe tbody tr th {\n",
              "        vertical-align: top;\n",
              "    }\n",
              "\n",
              "    .dataframe thead th {\n",
              "        text-align: right;\n",
              "    }\n",
              "</style>\n",
              "<table border=\"1\" class=\"dataframe\">\n",
              "  <thead>\n",
              "    <tr style=\"text-align: right;\">\n",
              "      <th></th>\n",
              "      <th>idu_ArticuloCodigo</th>\n",
              "      <th>flag_Estatus</th>\n",
              "      <th>des_Area</th>\n",
              "      <th>des_Categoria</th>\n",
              "      <th>des_Subcategoria</th>\n",
              "      <th>num_Cantidad</th>\n",
              "      <th>sec_Orden</th>\n",
              "      <th>sec_OrdenCommerce</th>\n",
              "      <th>fec_FechaOrden</th>\n",
              "      <th>idu_BodegaCodigo</th>\n",
              "      <th>flag_Promocion</th>\n",
              "      <th>imp_PrecioContadoUnitario</th>\n",
              "      <th>imp_DescuentoPromocion</th>\n",
              "    </tr>\n",
              "  </thead>\n",
              "  <tbody>\n",
              "    <tr>\n",
              "      <th>45</th>\n",
              "      <td>623342</td>\n",
              "      <td>1</td>\n",
              "      <td>Muebles</td>\n",
              "      <td>Línea Blanca</td>\n",
              "      <td>Cocción</td>\n",
              "      <td>1</td>\n",
              "      <td>1193740</td>\n",
              "      <td>4472331</td>\n",
              "      <td>2017-12-29 22:06:02.000</td>\n",
              "      <td>30020.0</td>\n",
              "      <td>True</td>\n",
              "      <td>2068.11</td>\n",
              "      <td>172.41</td>\n",
              "    </tr>\n",
              "    <tr>\n",
              "      <th>46</th>\n",
              "      <td>623407</td>\n",
              "      <td>1</td>\n",
              "      <td>Muebles</td>\n",
              "      <td>Línea Blanca</td>\n",
              "      <td>Cocción</td>\n",
              "      <td>1</td>\n",
              "      <td>1195205</td>\n",
              "      <td>4485624</td>\n",
              "      <td>2018-01-01 16:50:21.937</td>\n",
              "      <td>30004.0</td>\n",
              "      <td>False</td>\n",
              "      <td>1637.07</td>\n",
              "      <td>0.00</td>\n",
              "    </tr>\n",
              "    <tr>\n",
              "      <th>47</th>\n",
              "      <td>513059</td>\n",
              "      <td>1</td>\n",
              "      <td>Muebles</td>\n",
              "      <td>Deportes Y Actividades Al Aire Libre</td>\n",
              "      <td>Outdoor</td>\n",
              "      <td>1</td>\n",
              "      <td>1195149</td>\n",
              "      <td>4485412</td>\n",
              "      <td>2018-01-01 15:22:18.533</td>\n",
              "      <td>30006.0</td>\n",
              "      <td>True</td>\n",
              "      <td>214.66</td>\n",
              "      <td>43.10</td>\n",
              "    </tr>\n",
              "    <tr>\n",
              "      <th>48</th>\n",
              "      <td>533491</td>\n",
              "      <td>1</td>\n",
              "      <td>Muebles</td>\n",
              "      <td>Deportes Y Actividades Al Aire Libre</td>\n",
              "      <td>Outdoor</td>\n",
              "      <td>1</td>\n",
              "      <td>1195045</td>\n",
              "      <td>4484377</td>\n",
              "      <td>2018-01-01 11:36:32.923</td>\n",
              "      <td>30010.0</td>\n",
              "      <td>True</td>\n",
              "      <td>145.69</td>\n",
              "      <td>25.86</td>\n",
              "    </tr>\n",
              "    <tr>\n",
              "      <th>49</th>\n",
              "      <td>144687</td>\n",
              "      <td>1</td>\n",
              "      <td>Ropa</td>\n",
              "      <td>Caballero Exterior</td>\n",
              "      <td>Caballero Exterior</td>\n",
              "      <td>1</td>\n",
              "      <td>1194953</td>\n",
              "      <td>4483361</td>\n",
              "      <td>2017-12-31 22:25:53.027</td>\n",
              "      <td>9999.0</td>\n",
              "      <td>False</td>\n",
              "      <td>344.00</td>\n",
              "      <td>0.00</td>\n",
              "    </tr>\n",
              "  </tbody>\n",
              "</table>\n",
              "</div>"
            ],
            "text/plain": [
              "    idu_ArticuloCodigo  flag_Estatus des_Area  \\\n",
              "45              623342             1  Muebles   \n",
              "46              623407             1  Muebles   \n",
              "47              513059             1  Muebles   \n",
              "48              533491             1  Muebles   \n",
              "49              144687             1     Ropa   \n",
              "\n",
              "                           des_Categoria    des_Subcategoria  num_Cantidad  \\\n",
              "45                          Línea Blanca             Cocción             1   \n",
              "46                          Línea Blanca             Cocción             1   \n",
              "47  Deportes Y Actividades Al Aire Libre             Outdoor             1   \n",
              "48  Deportes Y Actividades Al Aire Libre             Outdoor             1   \n",
              "49                    Caballero Exterior  Caballero Exterior             1   \n",
              "\n",
              "    sec_Orden  sec_OrdenCommerce          fec_FechaOrden  idu_BodegaCodigo  \\\n",
              "45    1193740            4472331 2017-12-29 22:06:02.000           30020.0   \n",
              "46    1195205            4485624 2018-01-01 16:50:21.937           30004.0   \n",
              "47    1195149            4485412 2018-01-01 15:22:18.533           30006.0   \n",
              "48    1195045            4484377 2018-01-01 11:36:32.923           30010.0   \n",
              "49    1194953            4483361 2017-12-31 22:25:53.027            9999.0   \n",
              "\n",
              "    flag_Promocion  imp_PrecioContadoUnitario  imp_DescuentoPromocion  \n",
              "45            True                    2068.11                  172.41  \n",
              "46           False                    1637.07                    0.00  \n",
              "47            True                     214.66                   43.10  \n",
              "48            True                     145.69                   25.86  \n",
              "49           False                     344.00                    0.00  "
            ]
          },
          "execution_count": 18,
          "metadata": {},
          "output_type": "execute_result"
        }
      ],
      "source": [
        "ordenes.iloc[45:50,:]"
      ]
    },
    {
      "cell_type": "code",
      "execution_count": null,
      "metadata": {
        "id": "qk6K5Elo-MgR"
      },
      "outputs": [],
      "source": [
        "ordenes.fec_FechaOrden = pd.to_datetime(ordenes.fec_FechaOrden,format='ISO8601', errors='coerce')"
      ]
    },
    {
      "cell_type": "code",
      "execution_count": null,
      "metadata": {
        "id": "lrlubrzR-MgS"
      },
      "outputs": [],
      "source": [
        "ordenes['fec_FechaOrden_2'] = ordenes.fec_FechaOrden.dt.tz_localize('UTC')"
      ]
    },
    {
      "cell_type": "code",
      "execution_count": null,
      "metadata": {
        "id": "BbCn05dw-MgT",
        "outputId": "75133a2b-e85d-4f3d-a5f3-d5f6db93fa95"
      },
      "outputs": [
        {
          "data": {
            "text/html": [
              "<div>\n",
              "<style scoped>\n",
              "    .dataframe tbody tr th:only-of-type {\n",
              "        vertical-align: middle;\n",
              "    }\n",
              "\n",
              "    .dataframe tbody tr th {\n",
              "        vertical-align: top;\n",
              "    }\n",
              "\n",
              "    .dataframe thead th {\n",
              "        text-align: right;\n",
              "    }\n",
              "</style>\n",
              "<table border=\"1\" class=\"dataframe\">\n",
              "  <thead>\n",
              "    <tr style=\"text-align: right;\">\n",
              "      <th></th>\n",
              "      <th>fec_FechaOrden_2</th>\n",
              "      <th>fec_FechaOrden</th>\n",
              "    </tr>\n",
              "  </thead>\n",
              "  <tbody>\n",
              "    <tr>\n",
              "      <th>0</th>\n",
              "      <td>2018-01-01 11:33:46.253000+00:00</td>\n",
              "      <td>2018-01-01 11:33:46.253</td>\n",
              "    </tr>\n",
              "    <tr>\n",
              "      <th>1</th>\n",
              "      <td>2018-01-01 13:53:03.890000+00:00</td>\n",
              "      <td>2018-01-01 13:53:03.890</td>\n",
              "    </tr>\n",
              "    <tr>\n",
              "      <th>2</th>\n",
              "      <td>2018-01-01 18:26:02.803000+00:00</td>\n",
              "      <td>2018-01-01 18:26:02.803</td>\n",
              "    </tr>\n",
              "    <tr>\n",
              "      <th>3</th>\n",
              "      <td>2018-01-01 18:23:11.757000+00:00</td>\n",
              "      <td>2018-01-01 18:23:11.757</td>\n",
              "    </tr>\n",
              "    <tr>\n",
              "      <th>4</th>\n",
              "      <td>2018-01-01 13:15:39.440000+00:00</td>\n",
              "      <td>2018-01-01 13:15:39.440</td>\n",
              "    </tr>\n",
              "    <tr>\n",
              "      <th>...</th>\n",
              "      <td>...</td>\n",
              "      <td>...</td>\n",
              "    </tr>\n",
              "    <tr>\n",
              "      <th>440</th>\n",
              "      <td>2017-12-29 15:51:59.280000+00:00</td>\n",
              "      <td>2017-12-29 15:51:59.280</td>\n",
              "    </tr>\n",
              "    <tr>\n",
              "      <th>441</th>\n",
              "      <td>2018-01-01 20:12:17.913000+00:00</td>\n",
              "      <td>2018-01-01 20:12:17.913</td>\n",
              "    </tr>\n",
              "    <tr>\n",
              "      <th>442</th>\n",
              "      <td>2018-01-01 20:12:17.913000+00:00</td>\n",
              "      <td>2018-01-01 20:12:17.913</td>\n",
              "    </tr>\n",
              "    <tr>\n",
              "      <th>443</th>\n",
              "      <td>2018-01-01 11:44:28.413000+00:00</td>\n",
              "      <td>2018-01-01 11:44:28.413</td>\n",
              "    </tr>\n",
              "    <tr>\n",
              "      <th>444</th>\n",
              "      <td>2018-01-01 13:27:22.203000+00:00</td>\n",
              "      <td>2018-01-01 13:27:22.203</td>\n",
              "    </tr>\n",
              "  </tbody>\n",
              "</table>\n",
              "<p>445 rows × 2 columns</p>\n",
              "</div>"
            ],
            "text/plain": [
              "                    fec_FechaOrden_2          fec_FechaOrden\n",
              "0   2018-01-01 11:33:46.253000+00:00 2018-01-01 11:33:46.253\n",
              "1   2018-01-01 13:53:03.890000+00:00 2018-01-01 13:53:03.890\n",
              "2   2018-01-01 18:26:02.803000+00:00 2018-01-01 18:26:02.803\n",
              "3   2018-01-01 18:23:11.757000+00:00 2018-01-01 18:23:11.757\n",
              "4   2018-01-01 13:15:39.440000+00:00 2018-01-01 13:15:39.440\n",
              "..                               ...                     ...\n",
              "440 2017-12-29 15:51:59.280000+00:00 2017-12-29 15:51:59.280\n",
              "441 2018-01-01 20:12:17.913000+00:00 2018-01-01 20:12:17.913\n",
              "442 2018-01-01 20:12:17.913000+00:00 2018-01-01 20:12:17.913\n",
              "443 2018-01-01 11:44:28.413000+00:00 2018-01-01 11:44:28.413\n",
              "444 2018-01-01 13:27:22.203000+00:00 2018-01-01 13:27:22.203\n",
              "\n",
              "[445 rows x 2 columns]"
            ]
          },
          "execution_count": 23,
          "metadata": {},
          "output_type": "execute_result"
        }
      ],
      "source": [
        "ordenes[['fec_FechaOrden_2','fec_FechaOrden']]"
      ]
    },
    {
      "cell_type": "code",
      "execution_count": null,
      "metadata": {
        "id": "mjNzuNKy-MgU"
      },
      "outputs": [],
      "source": [
        "ordenes['fec_FechaOrden_2'] = ordenes['fec_FechaOrden_2'].dt.tz_convert('America/Mexico_City')  # UTC-6 para Ciudad de México"
      ]
    },
    {
      "cell_type": "code",
      "execution_count": null,
      "metadata": {
        "id": "gOB-epFJ-MgU",
        "outputId": "669db931-0683-461d-94ec-811f538ffd5c"
      },
      "outputs": [
        {
          "data": {
            "text/html": [
              "<div>\n",
              "<style scoped>\n",
              "    .dataframe tbody tr th:only-of-type {\n",
              "        vertical-align: middle;\n",
              "    }\n",
              "\n",
              "    .dataframe tbody tr th {\n",
              "        vertical-align: top;\n",
              "    }\n",
              "\n",
              "    .dataframe thead th {\n",
              "        text-align: right;\n",
              "    }\n",
              "</style>\n",
              "<table border=\"1\" class=\"dataframe\">\n",
              "  <thead>\n",
              "    <tr style=\"text-align: right;\">\n",
              "      <th></th>\n",
              "      <th>fec_FechaOrden_2</th>\n",
              "      <th>fec_FechaOrden</th>\n",
              "    </tr>\n",
              "  </thead>\n",
              "  <tbody>\n",
              "    <tr>\n",
              "      <th>0</th>\n",
              "      <td>2018-01-01 05:33:46.253000-06:00</td>\n",
              "      <td>2018-01-01 11:33:46.253</td>\n",
              "    </tr>\n",
              "    <tr>\n",
              "      <th>1</th>\n",
              "      <td>2018-01-01 07:53:03.890000-06:00</td>\n",
              "      <td>2018-01-01 13:53:03.890</td>\n",
              "    </tr>\n",
              "    <tr>\n",
              "      <th>2</th>\n",
              "      <td>2018-01-01 12:26:02.803000-06:00</td>\n",
              "      <td>2018-01-01 18:26:02.803</td>\n",
              "    </tr>\n",
              "    <tr>\n",
              "      <th>3</th>\n",
              "      <td>2018-01-01 12:23:11.757000-06:00</td>\n",
              "      <td>2018-01-01 18:23:11.757</td>\n",
              "    </tr>\n",
              "    <tr>\n",
              "      <th>4</th>\n",
              "      <td>2018-01-01 07:15:39.440000-06:00</td>\n",
              "      <td>2018-01-01 13:15:39.440</td>\n",
              "    </tr>\n",
              "    <tr>\n",
              "      <th>...</th>\n",
              "      <td>...</td>\n",
              "      <td>...</td>\n",
              "    </tr>\n",
              "    <tr>\n",
              "      <th>440</th>\n",
              "      <td>2017-12-29 09:51:59.280000-06:00</td>\n",
              "      <td>2017-12-29 15:51:59.280</td>\n",
              "    </tr>\n",
              "    <tr>\n",
              "      <th>441</th>\n",
              "      <td>2018-01-01 14:12:17.913000-06:00</td>\n",
              "      <td>2018-01-01 20:12:17.913</td>\n",
              "    </tr>\n",
              "    <tr>\n",
              "      <th>442</th>\n",
              "      <td>2018-01-01 14:12:17.913000-06:00</td>\n",
              "      <td>2018-01-01 20:12:17.913</td>\n",
              "    </tr>\n",
              "    <tr>\n",
              "      <th>443</th>\n",
              "      <td>2018-01-01 05:44:28.413000-06:00</td>\n",
              "      <td>2018-01-01 11:44:28.413</td>\n",
              "    </tr>\n",
              "    <tr>\n",
              "      <th>444</th>\n",
              "      <td>2018-01-01 07:27:22.203000-06:00</td>\n",
              "      <td>2018-01-01 13:27:22.203</td>\n",
              "    </tr>\n",
              "  </tbody>\n",
              "</table>\n",
              "<p>445 rows × 2 columns</p>\n",
              "</div>"
            ],
            "text/plain": [
              "                    fec_FechaOrden_2          fec_FechaOrden\n",
              "0   2018-01-01 05:33:46.253000-06:00 2018-01-01 11:33:46.253\n",
              "1   2018-01-01 07:53:03.890000-06:00 2018-01-01 13:53:03.890\n",
              "2   2018-01-01 12:26:02.803000-06:00 2018-01-01 18:26:02.803\n",
              "3   2018-01-01 12:23:11.757000-06:00 2018-01-01 18:23:11.757\n",
              "4   2018-01-01 07:15:39.440000-06:00 2018-01-01 13:15:39.440\n",
              "..                               ...                     ...\n",
              "440 2017-12-29 09:51:59.280000-06:00 2017-12-29 15:51:59.280\n",
              "441 2018-01-01 14:12:17.913000-06:00 2018-01-01 20:12:17.913\n",
              "442 2018-01-01 14:12:17.913000-06:00 2018-01-01 20:12:17.913\n",
              "443 2018-01-01 05:44:28.413000-06:00 2018-01-01 11:44:28.413\n",
              "444 2018-01-01 07:27:22.203000-06:00 2018-01-01 13:27:22.203\n",
              "\n",
              "[445 rows x 2 columns]"
            ]
          },
          "execution_count": 25,
          "metadata": {},
          "output_type": "execute_result"
        }
      ],
      "source": [
        "ordenes[['fec_FechaOrden_2','fec_FechaOrden']]"
      ]
    },
    {
      "cell_type": "code",
      "execution_count": null,
      "metadata": {
        "id": "eao8EXug-MgU",
        "outputId": "434f0162-7fb2-40d1-ae12-b0ca22b2b6c5"
      },
      "outputs": [
        {
          "data": {
            "text/plain": [
              "260"
            ]
          },
          "execution_count": 27,
          "metadata": {},
          "output_type": "execute_result"
        }
      ],
      "source": [
        "ordenes.sec_OrdenCommerce.nunique()"
      ]
    },
    {
      "cell_type": "code",
      "execution_count": null,
      "metadata": {
        "id": "D1z0nEJ5-MgU",
        "outputId": "5a204d1e-05b8-4279-960b-9d37dec6f441"
      },
      "outputs": [
        {
          "data": {
            "text/plain": [
              "['idu_ArticuloCodigo',\n",
              " 'flag_Estatus',\n",
              " 'des_Area',\n",
              " 'des_Categoria',\n",
              " 'des_Subcategoria',\n",
              " 'num_Cantidad',\n",
              " 'sec_Orden',\n",
              " 'sec_OrdenCommerce',\n",
              " 'fec_FechaOrden',\n",
              " 'idu_BodegaCodigo',\n",
              " 'flag_Promocion',\n",
              " 'imp_PrecioContadoUnitario',\n",
              " 'imp_DescuentoPromocion',\n",
              " 'fec_FechaOrden_2']"
            ]
          },
          "execution_count": 31,
          "metadata": {},
          "output_type": "execute_result"
        }
      ],
      "source": [
        "list(ordenes.columns)"
      ]
    },
    {
      "cell_type": "code",
      "execution_count": null,
      "metadata": {
        "id": "nQoN7NFh-MgV"
      },
      "outputs": [],
      "source": []
    },
    {
      "cell_type": "code",
      "execution_count": null,
      "metadata": {
        "id": "gUtFWXK--MgV"
      },
      "outputs": [],
      "source": [
        "new=ordenes.groupby('sec_OrdenCommerce').agg({'imp_PrecioContadoUnitario':'sum','num_Cantidad':'sum'}).head(3).reset_index()"
      ]
    },
    {
      "cell_type": "code",
      "execution_count": null,
      "metadata": {
        "id": "xQAAAVC0-MgV"
      },
      "outputs": [],
      "source": [
        "new['imp_TotalOrden'] = new['imp_PrecioContadoUnitario'] * new['num_Cantidad']"
      ]
    },
    {
      "cell_type": "code",
      "execution_count": null,
      "metadata": {
        "id": "kyGku6ts-MgW"
      },
      "outputs": [],
      "source": [
        "new.rename(columns={' imp_TotalOrden':'imp_TotalOrden'},inplace=True)"
      ]
    },
    {
      "cell_type": "code",
      "execution_count": null,
      "metadata": {
        "id": "R731Eq4l-MgW"
      },
      "outputs": [],
      "source": [
        "deptos=ordenes[['des_Area', 'des_Categoria', 'des_Subcategoria']]"
      ]
    },
    {
      "cell_type": "code",
      "execution_count": null,
      "metadata": {
        "id": "6tu0YIH3-MgW",
        "outputId": "5717d443-4e01-4f39-9614-294004eb98cd"
      },
      "outputs": [
        {
          "data": {
            "text/plain": [
              "0    des_Area                       Muebles\n",
              "     des_Categoria                    Bebés\n",
              "     des_Subcategoria                 Bebés\n",
              "1    des_Area                       Muebles\n",
              "     des_Categoria                    Bebés\n",
              "                                ...        \n",
              "443  des_Categoria       Enseres Domésticos\n",
              "     des_Subcategoria     Electrodomésticos\n",
              "444  des_Area                       Muebles\n",
              "     des_Categoria       Enseres Domésticos\n",
              "     des_Subcategoria     Electrodomésticos\n",
              "Length: 1335, dtype: object"
            ]
          },
          "execution_count": 43,
          "metadata": {},
          "output_type": "execute_result"
        }
      ],
      "source": [
        "deptos.stack()"
      ]
    },
    {
      "cell_type": "code",
      "execution_count": null,
      "metadata": {
        "id": "uPLjX2Cw-MgW",
        "outputId": "7197177f-21f4-43bb-96da-9c2182121f12"
      },
      "outputs": [
        {
          "data": {
            "text/plain": [
              "'{\"(0, \\'des_Area\\')\":\"Muebles\",\"(0, \\'des_Categoria\\')\":\"Beb\\\\u00e9s\",\"(0, \\'des_Subcategoria\\')\":\"Beb\\\\u00e9s\",\"(1, \\'des_Area\\')\":\"Muebles\",\"(1, \\'des_Categoria\\')\":\"Beb\\\\u00e9s\",\"(1, \\'des_Subcategoria\\')\":\"Beb\\\\u00e9s\",\"(2, \\'des_Area\\')\":\"Muebles\",\"(2, \\'des_Categoria\\')\":\"Beb\\\\u00e9s\",\"(2, \\'des_Subcategoria\\')\":\"Beb\\\\u00e9s\",\"(3, \\'des_Area\\')\":\"Muebles\",\"(3, \\'des_Categoria\\')\":\"Beb\\\\u00e9s\",\"(3, \\'des_Subcategoria\\')\":\"Beb\\\\u00e9s\",\"(4, \\'des_Area\\')\":\"Muebles\",\"(4, \\'des_Categoria\\')\":\"Muebles de Hogar y Recamara\",\"(4, \\'des_Subcategoria\\')\":\"Camas\",\"(5, \\'des_Area\\')\":\"Muebles\",\"(5, \\'des_Categoria\\')\":\"Muebles de Hogar y Recamara\",\"(5, \\'des_Subcategoria\\')\":\"Salas\",\"(6, \\'des_Area\\')\":\"Muebles\",\"(6, \\'des_Categoria\\')\":\"Muebles de Hogar y Recamara\",\"(6, \\'des_Subcategoria\\')\":\"Salas\",\"(7, \\'des_Area\\')\":\"Muebles\",\"(7, \\'des_Categoria\\')\":\"Muebles de Hogar y Recamara\",\"(7, \\'des_Subcategoria\\')\":\"Salas\",\"(8, \\'des_Area\\')\":\"Muebles\",\"(8, \\'des_Categoria\\')\":\"Terraza y Jard\\\\u00edn\",\"(8, \\'des_Subcategoria\\')\":\"Muebles de Jard\\\\u00edn\",\"(9, \\'des_Area\\')\":\"Muebles\",\"(9, \\'des_Categoria\\')\":\"Decoraci\\\\u00f3n\",\"(9, \\'des_Subcategoria\\')\":\"Decoraci\\\\u00f3n\",\"(10, \\'des_Area\\')\":\"Muebles\",\"(10, \\'des_Categoria\\')\":\"Decoraci\\\\u00f3n\",\"(10, \\'des_Subcategoria\\')\":\"Decoraci\\\\u00f3n\",\"(11, \\'des_Area\\')\":\"Muebles\",\"(11, \\'des_Categoria\\')\":\"Decoraci\\\\u00f3n\",\"(11, \\'des_Subcategoria\\')\":\"Decoraci\\\\u00f3n\",\"(12, \\'des_Area\\')\":\"Muebles\",\"(12, \\'des_Categoria\\')\":\"Decoraci\\\\u00f3n\",\"(12, \\'des_Subcategoria\\')\":\"Decoraci\\\\u00f3n\",\"(13, \\'des_Area\\')\":\"Muebles\",\"(13, \\'des_Categoria\\')\":\"Colchones y Blancos\",\"(13, \\'des_Subcategoria\\')\":\"Colchones\",\"(14, \\'des_Area\\')\":\"Muebles\",\"(14, \\'des_Categoria\\')\":\"Colchones y Blancos\",\"(14, \\'des_Subcategoria\\')\":\"Colchones\",\"(15, \\'des_Area\\')\":\"Muebles\",\"(15, \\'des_Categoria\\')\":\"Colchones y Blancos\",\"(15, \\'des_Subcategoria\\')\":\"Colchones\",\"(16, \\'des_Area\\')\":\"Muebles\",\"(16, \\'des_Categoria\\')\":\"Colchones y Blancos\",\"(16, \\'des_Subcategoria\\')\":\"Colchones\",\"(17, \\'des_Area\\')\":\"Muebles\",\"(17, \\'des_Categoria\\')\":\"Colchones y Blancos\",\"(17, \\'des_Subcategoria\\')\":\"Colchones\",\"(18, \\'des_Area\\')\":\"Muebles\",\"(18, \\'des_Categoria\\')\":\"Colchones y Blancos\",\"(18, \\'des_Subcategoria\\')\":\"Colchones\",\"(19, \\'des_Area\\')\":\"Muebles\",\"(19, \\'des_Categoria\\')\":\"Muebles de Hogar y Recamara\",\"(19, \\'des_Subcategoria\\')\":\"Muebles para Recamara\",\"(20, \\'des_Area\\')\":\"Muebles\",\"(20, \\'des_Categoria\\')\":\"Muebles de Hogar y Recamara\",\"(20, \\'des_Subcategoria\\')\":\"Muebles para Recamara\",\"(21, \\'des_Area\\')\":\"Muebles\",\"(21, \\'des_Categoria\\')\":\"Muebles de Hogar y Recamara\",\"(21, \\'des_Subcategoria\\')\":\"Muebles para Recamara\",\"(22, \\'des_Area\\')\":\"Muebles\",\"(22, \\'des_Categoria\\')\":\"Muebles de Hogar y Recamara\",\"(22, \\'des_Subcategoria\\')\":\"Muebles para Recamara\",\"(23, \\'des_Area\\')\":\"Muebles\",\"(23, \\'des_Categoria\\')\":\"L\\\\u00ednea Blanca\",\"(23, \\'des_Subcategoria\\')\":\"Cocci\\\\u00f3n\",\"(24, \\'des_Area\\')\":\"Muebles\",\"(24, \\'des_Categoria\\')\":\"L\\\\u00ednea Blanca\",\"(24, \\'des_Subcategoria\\')\":\"Cocci\\\\u00f3n\",\"(25, \\'des_Area\\')\":\"Muebles\",\"(25, \\'des_Categoria\\')\":\"L\\\\u00ednea Blanca\",\"(25, \\'des_Subcategoria\\')\":\"Cocci\\\\u00f3n\",\"(26, \\'des_Area\\')\":\"Muebles\",\"(26, \\'des_Categoria\\')\":\"Automotriz\",\"(26, \\'des_Subcategoria\\')\":\"Automotriz\",\"(27, \\'des_Area\\')\":\"Muebles\",\"(27, \\'des_Categoria\\')\":\"Automotriz\",\"(27, \\'des_Subcategoria\\')\":\"Automotriz\",\"(28, \\'des_Area\\')\":\"Muebles\",\"(28, \\'des_Categoria\\')\":\"Audio y Video\",\"(28, \\'des_Subcategoria\\')\":\"Audio\",\"(29, \\'des_Area\\')\":\"Muebles\",\"(29, \\'des_Categoria\\')\":\"Audio y Video\",\"(29, \\'des_Subcategoria\\')\":\"Audio\",\"(30, \\'des_Area\\')\":\"Muebles\",\"(30, \\'des_Categoria\\')\":\"Audio y Video\",\"(30, \\'des_Subcategoria\\')\":\"Audio\",\"(31, \\'des_Area\\')\":\"Muebles\",\"(31, \\'des_Categoria\\')\":\"Audio y Video\",\"(31, \\'des_Subcategoria\\')\":\"Audio\",\"(32, \\'des_Area\\')\":\"Muebles\",\"(32, \\'des_Categoria\\')\":\"Decoraci\\\\u00f3n\",\"(32, \\'des_Subcategoria\\')\":\"Decoraci\\\\u00f3n\",\"(33, \\'des_Area\\')\":\"Muebles\",\"(33, \\'des_Categoria\\')\":\"Muebles de Hogar y Recamara\",\"(33, \\'des_Subcategoria\\')\":\"Muebles para Recamara\",\"(34, \\'des_Area\\')\":\"Muebles\",\"(34, \\'des_Categoria\\')\":\"Muebles de Hogar y Recamara\",\"(34, \\'des_Subcategoria\\')\":\"Muebles para Recamara\",\"(35, \\'des_Area\\')\":\"Muebles\",\"(35, \\'des_Categoria\\')\":\"C\\\\u00f3mputo| Tablets y Videojuegos\",\"(35, \\'des_Subcategoria\\')\":\"C\\\\u00f3mputo\",\"(36, \\'des_Area\\')\":\"Muebles\",\"(36, \\'des_Categoria\\')\":\"C\\\\u00f3mputo| Tablets y Videojuegos\",\"(36, \\'des_Subcategoria\\')\":\"C\\\\u00f3mputo\",\"(37, \\'des_Area\\')\":\"Muebles\",\"(37, \\'des_Categoria\\')\":\"C\\\\u00f3mputo| Tablets y Videojuegos\",\"(37, \\'des_Subcategoria\\')\":\"C\\\\u00f3mputo\",\"(38, \\'des_Area\\')\":\"Ropa\",\"(38, \\'des_Categoria\\')\":\"Lencer\\\\u00eda\",\"(38, \\'des_Subcategoria\\')\":\"Lencer\\\\u00eda\",\"(39, \\'des_Area\\')\":\"Ropa\",\"(39, \\'des_Categoria\\')\":\"Lencer\\\\u00eda\",\"(39, \\'des_Subcategoria\\')\":\"Lencer\\\\u00eda\",\"(40, \\'des_Area\\')\":\"Ropa\",\"(40, \\'des_Categoria\\')\":\"Lencer\\\\u00eda\",\"(40, \\'des_Subcategoria\\')\":\"Lencer\\\\u00eda\",\"(41, \\'des_Area\\')\":\"Ropa\",\"(41, \\'des_Categoria\\')\":\"Lencer\\\\u00eda\",\"(41, \\'des_Subcategoria\\')\":\"Lencer\\\\u00eda\",\"(42, \\'des_Area\\')\":\"Ropa\",\"(42, \\'des_Categoria\\')\":\"Lencer\\\\u00eda\",\"(42, \\'des_Subcategoria\\')\":\"Lencer\\\\u00eda\",\"(43, \\'des_Area\\')\":\"Muebles\",\"(43, \\'des_Categoria\\')\":\"L\\\\u00ednea Blanca\",\"(43, \\'des_Subcategoria\\')\":\"Cocci\\\\u00f3n\",\"(44, \\'des_Area\\')\":\"Muebles\",\"(44, \\'des_Categoria\\')\":\"L\\\\u00ednea Blanca\",\"(44, \\'des_Subcategoria\\')\":\"Cocci\\\\u00f3n\",\"(45, \\'des_Area\\')\":\"Muebles\",\"(45, \\'des_Categoria\\')\":\"L\\\\u00ednea Blanca\",\"(45, \\'des_Subcategoria\\')\":\"Cocci\\\\u00f3n\",\"(46, \\'des_Area\\')\":\"Muebles\",\"(46, \\'des_Categoria\\')\":\"L\\\\u00ednea Blanca\",\"(46, \\'des_Subcategoria\\')\":\"Cocci\\\\u00f3n\",\"(47, \\'des_Area\\')\":\"Muebles\",\"(47, \\'des_Categoria\\')\":\"Deportes Y Actividades Al Aire Libre\",\"(47, \\'des_Subcategoria\\')\":\"Outdoor\",\"(48, \\'des_Area\\')\":\"Muebles\",\"(48, \\'des_Categoria\\')\":\"Deportes Y Actividades Al Aire Libre\",\"(48, \\'des_Subcategoria\\')\":\"Outdoor\",\"(49, \\'des_Area\\')\":\"Ropa\",\"(49, \\'des_Categoria\\')\":\"Caballero Exterior\",\"(49, \\'des_Subcategoria\\')\":\"Caballero Exterior\",\"(50, \\'des_Area\\')\":\"Ropa\",\"(50, \\'des_Categoria\\')\":\"Caballero Exterior\",\"(50, \\'des_Subcategoria\\')\":\"Caballero Exterior\",\"(51, \\'des_Area\\')\":\"Ropa\",\"(51, \\'des_Categoria\\')\":\"Caballero Exterior\",\"(51, \\'des_Subcategoria\\')\":\"Caballero Exterior\",\"(52, \\'des_Area\\')\":\"Muebles\",\"(52, \\'des_Categoria\\')\":\"Juguetes\",\"(52, \\'des_Subcategoria\\')\":\"Juguetes\",\"(53, \\'des_Area\\')\":\"Muebles\",\"(53, \\'des_Categoria\\')\":\"Juguetes\",\"(53, \\'des_Subcategoria\\')\":\"Juguetes\",\"(54, \\'des_Area\\')\":\"Muebles\",\"(54, \\'des_Categoria\\')\":\"Juguetes\",\"(54, \\'des_Subcategoria\\')\":\"Juguetes\",\"(55, \\'des_Area\\')\":\"Muebles\",\"(55, \\'des_Categoria\\')\":\"Juguetes\",\"(55, \\'des_Subcategoria\\')\":\"Juguetes\",\"(56, \\'des_Area\\')\":\"Muebles\",\"(56, \\'des_Categoria\\')\":\"Enseres Dom\\\\u00e9sticos\",\"(56, \\'des_Subcategoria\\')\":\"Electrodom\\\\u00e9sticos\",\"(57, \\'des_Area\\')\":\"Muebles\",\"(57, \\'des_Categoria\\')\":\"Enseres Dom\\\\u00e9sticos\",\"(57, \\'des_Subcategoria\\')\":\"Electrodom\\\\u00e9sticos\",\"(58, \\'des_Area\\')\":\"Muebles\",\"(58, \\'des_Categoria\\')\":\"Enseres Dom\\\\u00e9sticos\",\"(58, \\'des_Subcategoria\\')\":\"Electrodom\\\\u00e9sticos\",\"(59, \\'des_Area\\')\":\"Muebles\",\"(59, \\'des_Categoria\\')\":\"Colchones y Blancos\",\"(59, \\'des_Subcategoria\\')\":\"Blancos\",\"(60, \\'des_Area\\')\":\"Muebles\",\"(60, \\'des_Categoria\\')\":\"Audio y Video\",\"(60, \\'des_Subcategoria\\')\":\"Audio Personal\",\"(61, \\'des_Area\\')\":\"Muebles\",\"(61, \\'des_Categoria\\')\":\"Audio y Video\",\"(61, \\'des_Subcategoria\\')\":\"Audio Personal\",\"(62, \\'des_Area\\')\":\"Muebles\",\"(62, \\'des_Categoria\\')\":\"Enseres Dom\\\\u00e9sticos\",\"(62, \\'des_Subcategoria\\')\":\"Electrodom\\\\u00e9sticos\",\"(63, \\'des_Area\\')\":\"Muebles\",\"(63, \\'des_Categoria\\')\":\"Audio y Video\",\"(63, \\'des_Subcategoria\\')\":\"Audio Personal\",\"(64, \\'des_Area\\')\":\"Muebles\",\"(64, \\'des_Categoria\\')\":\"Muebles de Hogar y Recamara\",\"(64, \\'des_Subcategoria\\')\":\"Comedor\",\"(65, \\'des_Area\\')\":\"Muebles\",\"(65, \\'des_Categoria\\')\":\"Muebles de Hogar y Recamara\",\"(65, \\'des_Subcategoria\\')\":\"Comedor\",\"(66, \\'des_Area\\')\":\"Ropa\",\"(66, \\'des_Categoria\\')\":\"Caballero Exterior\",\"(66, \\'des_Subcategoria\\')\":\"Caballero Exterior\",\"(67, \\'des_Area\\')\":\"Ropa\",\"(67, \\'des_Categoria\\')\":\"Deportivo\",\"(67, \\'des_Subcategoria\\')\":\"Deportivo\",\"(68, \\'des_Area\\')\":\"Ropa\",\"(68, \\'des_Categoria\\')\":\"Deportivo\",\"(68, \\'des_Subcategoria\\')\":\"Deportivo\",\"(69, \\'des_Area\\')\":\"Ropa\",\"(69, \\'des_Categoria\\')\":\"Deportivo\",\"(69, \\'des_Subcategoria\\')\":\"Deportivo\",\"(70, \\'des_Area\\')\":\"Ropa\",\"(70, \\'des_Categoria\\')\":\"Deportivo\",\"(70, \\'des_Subcategoria\\')\":\"Deportivo\",\"(71, \\'des_Area\\')\":\"Muebles\",\"(71, \\'des_Categoria\\')\":\"C\\\\u00f3mputo| Tablets y Videojuegos\",\"(71, \\'des_Subcategoria\\')\":\"C\\\\u00f3mputo\",\"(72, \\'des_Area\\')\":\"Muebles\",\"(72, \\'des_Categoria\\')\":\"Colchones y Blancos\",\"(72, \\'des_Subcategoria\\')\":\"Colchones\",\"(73, \\'des_Area\\')\":\"Muebles\",\"(73, \\'des_Categoria\\')\":\"Colchones y Blancos\",\"(73, \\'des_Subcategoria\\')\":\"Colchones\",\"(74, \\'des_Area\\')\":\"Muebles\",\"(74, \\'des_Categoria\\')\":\"L\\\\u00ednea Blanca\",\"(74, \\'des_Subcategoria\\')\":\"Refrigeraci\\\\u00f3n\",\"(75, \\'des_Area\\')\":\"Muebles\",\"(75, \\'des_Categoria\\')\":\"L\\\\u00ednea Blanca\",\"(75, \\'des_Subcategoria\\')\":\"Refrigeraci\\\\u00f3n\",\"(76, \\'des_Area\\')\":\"Muebles\",\"(76, \\'des_Categoria\\')\":\"L\\\\u00ednea Blanca\",\"(76, \\'des_Subcategoria\\')\":\"Refrigeraci\\\\u00f3n\",\"(77, \\'des_Area\\')\":\"Muebles\",\"(77, \\'des_Categoria\\')\":\"L\\\\u00ednea Blanca\",\"(77, \\'des_Subcategoria\\')\":\"Refrigeraci\\\\u00f3n\",\"(78, \\'des_Area\\')\":\"Muebles\",\"(78, \\'des_Categoria\\')\":\"L\\\\u00ednea Blanca\",\"(78, \\'des_Subcategoria\\')\":\"Refrigeraci\\\\u00f3n\",\"(79, \\'des_Area\\')\":\"Muebles\",\"(79, \\'des_Categoria\\')\":\"L\\\\u00ednea Blanca\",\"(79, \\'des_Subcategoria\\')\":\"Refrigeraci\\\\u00f3n\",\"(80, \\'des_Area\\')\":\"Muebles\",\"(80, \\'des_Categoria\\')\":\"Muebles de Hogar y Recamara\",\"(80, \\'des_Subcategoria\\')\":\"Comedor\",\"(81, \\'des_Area\\')\":\"Muebles\",\"(81, \\'des_Categoria\\')\":\"Joyer\\\\u00eda| Relojer\\\\u00eda y Accesorios\",\"(81, \\'des_Subcategoria\\')\":\"Joyer\\\\u00eda\",\"(82, \\'des_Area\\')\":\"Muebles\",\"(82, \\'des_Categoria\\')\":\"Joyer\\\\u00eda| Relojer\\\\u00eda y Accesorios\",\"(82, \\'des_Subcategoria\\')\":\"Joyer\\\\u00eda\",\"(83, \\'des_Area\\')\":\"Ropa\",\"(83, \\'des_Categoria\\')\":\"Interior y Calceteria\",\"(83, \\'des_Subcategoria\\')\":\"Interior y Calceteria\",\"(84, \\'des_Area\\')\":\"Ropa\",\"(84, \\'des_Categoria\\')\":\"Interior y Calceteria\",\"(84, \\'des_Subcategoria\\')\":\"Interior y Calceteria\",\"(85, \\'des_Area\\')\":\"Ropa\",\"(85, \\'des_Categoria\\')\":\"Interior y Calceteria\",\"(85, \\'des_Subcategoria\\')\":\"Interior y Calceteria\",\"(86, \\'des_Area\\')\":\"Ropa\",\"(86, \\'des_Categoria\\')\":\"Interior y Calceteria\",\"(86, \\'des_Subcategoria\\')\":\"Interior y Calceteria\",\"(87, \\'des_Area\\')\":\"Ropa\",\"(87, \\'des_Categoria\\')\":\"Interior y Calceteria\",\"(87, \\'des_Subcategoria\\')\":\"Interior y Calceteria\",\"(88, \\'des_Area\\')\":\"Ropa\",\"(88, \\'des_Categoria\\')\":\"Interior y Calceteria\",\"(88, \\'des_Subcategoria\\')\":\"Interior y Calceteria\",\"(89, \\'des_Area\\')\":\"Ropa\",\"(89, \\'des_Categoria\\')\":\"Interior y Calceteria\",\"(89, \\'des_Subcategoria\\')\":\"Interior y Calceteria\",\"(90, \\'des_Area\\')\":\"Muebles\",\"(90, \\'des_Categoria\\')\":\"Enseres Dom\\\\u00e9sticos\",\"(90, \\'des_Subcategoria\\')\":\"Electrodom\\\\u00e9sticos\",\"(91, \\'des_Area\\')\":\"Muebles\",\"(91, \\'des_Categoria\\')\":\"Enseres Dom\\\\u00e9sticos\",\"(91, \\'des_Subcategoria\\')\":\"Electrodom\\\\u00e9sticos\",\"(92, \\'des_Area\\')\":\"Muebles\",\"(92, \\'des_Categoria\\')\":\"Joyer\\\\u00eda| Relojer\\\\u00eda y Accesorios\",\"(92, \\'des_Subcategoria\\')\":\"Relojer\\\\u00eda\",\"(93, \\'des_Area\\')\":\"Muebles\",\"(93, \\'des_Categoria\\')\":\"Joyer\\\\u00eda| Relojer\\\\u00eda y Accesorios\",\"(93, \\'des_Subcategoria\\')\":\"Relojer\\\\u00eda\",\"(94, \\'des_Area\\')\":\"Muebles\",\"(94, \\'des_Categoria\\')\":\"Joyer\\\\u00eda| Relojer\\\\u00eda y Accesorios\",\"(94, \\'des_Subcategoria\\')\":\"Relojer\\\\u00eda\",\"(95, \\'des_Area\\')\":\"Muebles\",\"(95, \\'des_Categoria\\')\":\"Muebles de Hogar y Recamara\",\"(95, \\'des_Subcategoria\\')\":\"Salas\",\"(96, \\'des_Area\\')\":\"Muebles\",\"(96, \\'des_Categoria\\')\":\"Muebles de Hogar y Recamara\",\"(96, \\'des_Subcategoria\\')\":\"Salas\",\"(97, \\'des_Area\\')\":\"Muebles\",\"(97, \\'des_Categoria\\')\":\"\\\\u00d3ptica\",\"(97, \\'des_Subcategoria\\')\":\"Lente solar\",\"(98, \\'des_Area\\')\":\"Muebles\",\"(98, \\'des_Categoria\\')\":\"\\\\u00d3ptica\",\"(98, \\'des_Subcategoria\\')\":\"Lente solar\",\"(99, \\'des_Area\\')\":\"Muebles\",\"(99, \\'des_Categoria\\')\":\"Muebles de Hogar y Recamara\",\"(99, \\'des_Subcategoria\\')\":\"Salas\",\"(100, \\'des_Area\\')\":\"Ropa\",\"(100, \\'des_Categoria\\')\":\"Dama Joven\",\"(100, \\'des_Subcategoria\\')\":\"Dama Joven\",\"(101, \\'des_Area\\')\":\"Muebles\",\"(101, \\'des_Categoria\\')\":\"Audio y Video\",\"(101, \\'des_Subcategoria\\')\":\"Car Audio\",\"(102, \\'des_Area\\')\":\"Muebles\",\"(102, \\'des_Categoria\\')\":\"Audio y Video\",\"(102, \\'des_Subcategoria\\')\":\"Car Audio\",\"(103, \\'des_Area\\')\":\"Muebles\",\"(103, \\'des_Categoria\\')\":\"Maletas\",\"(103, \\'des_Subcategoria\\')\":\"Art\\\\u00edculos de Oficina\",\"(104, \\'des_Area\\')\":\"Muebles\",\"(104, \\'des_Categoria\\')\":\"C\\\\u00f3mputo| Tablets y Videojuegos\",\"(104, \\'des_Subcategoria\\')\":\"VideoJuegos\",\"(105, \\'des_Area\\')\":\"Muebles\",\"(105, \\'des_Categoria\\')\":\"C\\\\u00f3mputo| Tablets y Videojuegos\",\"(105, \\'des_Subcategoria\\')\":\"VideoJuegos\",\"(106, \\'des_Area\\')\":\"Muebles\",\"(106, \\'des_Categoria\\')\":\"C\\\\u00f3mputo| Tablets y Videojuegos\",\"(106, \\'des_Subcategoria\\')\":\"VideoJuegos\",\"(107, \\'des_Area\\')\":\"Muebles\",\"(107, \\'des_Categoria\\')\":\"C\\\\u00f3mputo| Tablets y Videojuegos\",\"(107, \\'des_Subcategoria\\')\":\"VideoJuegos\",\"(108, \\'des_Area\\')\":\"Muebles\",\"(108, \\'des_Categoria\\')\":\"C\\\\u00f3mputo| Tablets y Videojuegos\",\"(108, \\'des_Subcategoria\\')\":\"VideoJuegos\",\"(109, \\'des_Area\\')\":\"Muebles\",\"(109, \\'des_Categoria\\')\":\"C\\\\u00f3mputo| Tablets y Videojuegos\",\"(109, \\'des_Subcategoria\\')\":\"VideoJuegos\",\"(110, \\'des_Area\\')\":\"Muebles\",\"(110, \\'des_Categoria\\')\":\"C\\\\u00f3mputo| Tablets y Videojuegos\",\"(110, \\'des_Subcategoria\\')\":\"VideoJuegos\",\"(111, \\'des_Area\\')\":\"Muebles\",\"(111, \\'des_Categoria\\')\":\"Audio y Video\",\"(111, \\'des_Subcategoria\\')\":\"Video\",\"(112, \\'des_Area\\')\":\"Muebles\",\"(112, \\'des_Categoria\\')\":\"Audio y Video\",\"(112, \\'des_Subcategoria\\')\":\"Video\",\"(113, \\'des_Area\\')\":\"Ropa\",\"(113, \\'des_Categoria\\')\":\"Beb\\\\u00e9s\",\"(113, \\'des_Subcategoria\\')\":\"Beb\\\\u00e9s\",\"(114, \\'des_Area\\')\":\"Muebles\",\"(114, \\'des_Categoria\\')\":\"Enseres Dom\\\\u00e9sticos\",\"(114, \\'des_Subcategoria\\')\":\"Electrodom\\\\u00e9sticos\",\"(115, \\'des_Area\\')\":\"Muebles\",\"(115, \\'des_Categoria\\')\":\"Enseres Dom\\\\u00e9sticos\",\"(115, \\'des_Subcategoria\\')\":\"Electrodom\\\\u00e9sticos\",\"(116, \\'des_Area\\')\":\"Ropa\",\"(116, \\'des_Categoria\\')\":\"Dama Joven\",\"(116, \\'des_Subcategoria\\')\":\"Dama Joven\",\"(117, \\'des_Area\\')\":\"Ropa\",\"(117, \\'des_Categoria\\')\":\"Caballero Exterior\",\"(117, \\'des_Subcategoria\\')\":\"Caballero Exterior\",\"(118, \\'des_Area\\')\":\"Ropa\",\"(118, \\'des_Categoria\\')\":\"Dama Joven\",\"(118, \\'des_Subcategoria\\')\":\"Dama Joven\",\"(119, \\'des_Area\\')\":\"Ropa\",\"(119, \\'des_Categoria\\')\":\"Dama Joven\",\"(119, \\'des_Subcategoria\\')\":\"Dama Joven\",\"(120, \\'des_Area\\')\":\"Ropa\",\"(120, \\'des_Categoria\\')\":\"Dama Joven\",\"(120, \\'des_Subcategoria\\')\":\"Dama Joven\",\"(121, \\'des_Area\\')\":\"Ropa\",\"(121, \\'des_Categoria\\')\":\"Dama Joven\",\"(121, \\'des_Subcategoria\\')\":\"Dama Joven\",\"(122, \\'des_Area\\')\":\"Ropa\",\"(122, \\'des_Categoria\\')\":\"Dama Joven\",\"(122, \\'des_Subcategoria\\')\":\"Dama Joven\",\"(123, \\'des_Area\\')\":\"Ropa\",\"(123, \\'des_Categoria\\')\":\"Dama Joven\",\"(123, \\'des_Subcategoria\\')\":\"Dama Joven\",\"(124, \\'des_Area\\')\":\"Ropa\",\"(124, \\'des_Categoria\\')\":\"Dama Joven\",\"(124, \\'des_Subcategoria\\')\":\"Dama Joven\",\"(125, \\'des_Area\\')\":\"Ropa\",\"(125, \\'des_Categoria\\')\":\"Dama Joven\",\"(125, \\'des_Subcategoria\\')\":\"Dama Joven\",\"(126, \\'des_Area\\')\":\"Muebles\",\"(126, \\'des_Categoria\\')\":\"L\\\\u00ednea Blanca\",\"(126, \\'des_Subcategoria\\')\":\"Cocci\\\\u00f3n\",\"(127, \\'des_Area\\')\":\"Ropa\",\"(127, \\'des_Categoria\\')\":\"Caballero Exterior\",\"(127, \\'des_Subcategoria\\')\":\"Caballero Exterior\",\"(128, \\'des_Area\\')\":\"Ropa\",\"(128, \\'des_Categoria\\')\":\"Caballero Exterior\",\"(128, \\'des_Subcategoria\\')\":\"Caballero Exterior\",\"(129, \\'des_Area\\')\":\"Ropa\",\"(129, \\'des_Categoria\\')\":\"Dama Joven\",\"(129, \\'des_Subcategoria\\')\":\"Dama Joven\",\"(130, \\'des_Area\\')\":\"Ropa\",\"(130, \\'des_Categoria\\')\":\"Cuidado Personal\",\"(130, \\'des_Subcategoria\\')\":\"Cuidado Personal\",\"(131, \\'des_Area\\')\":\"Muebles\",\"(131, \\'des_Categoria\\')\":\"Joyer\\\\u00eda| Relojer\\\\u00eda y Accesorios\",\"(131, \\'des_Subcategoria\\')\":\"Joyer\\\\u00eda\",\"(132, \\'des_Area\\')\":\"Muebles\",\"(132, \\'des_Categoria\\')\":\"Audio y Video\",\"(132, \\'des_Subcategoria\\')\":\"Video\",\"(133, \\'des_Area\\')\":\"Muebles\",\"(133, \\'des_Categoria\\')\":\"Audio y Video\",\"(133, \\'des_Subcategoria\\')\":\"Video\",\"(134, \\'des_Area\\')\":\"Ropa\",\"(134, \\'des_Categoria\\')\":\"Beb\\\\u00e9s\",\"(134, \\'des_Subcategoria\\')\":\"Beb\\\\u00e9s\",\"(135, \\'des_Area\\')\":\"Ropa\",\"(135, \\'des_Categoria\\')\":\"Ni\\\\u00f1os\",\"(135, \\'des_Subcategoria\\')\":\"Ni\\\\u00f1os\",\"(136, \\'des_Area\\')\":\"Ropa\",\"(136, \\'des_Categoria\\')\":\"Ni\\\\u00f1os\",\"(136, \\'des_Subcategoria\\')\":\"Ni\\\\u00f1os\",\"(137, \\'des_Area\\')\":\"Muebles\",\"(137, \\'des_Categoria\\')\":\"Celulares\",\"(137, \\'des_Subcategoria\\')\":\"Tel\\\\u00e9fonos Celulares\",\"(138, \\'des_Area\\')\":\"Muebles\",\"(138, \\'des_Categoria\\')\":\"Celulares\",\"(138, \\'des_Subcategoria\\')\":\"Tel\\\\u00e9fonos Celulares\",\"(139, \\'des_Area\\')\":\"Muebles\",\"(139, \\'des_Categoria\\')\":\"Celulares\",\"(139, \\'des_Subcategoria\\')\":\"Tel\\\\u00e9fonos Celulares\",\"(140, \\'des_Area\\')\":\"Muebles\",\"(140, \\'des_Categoria\\')\":\"Celulares\",\"(140, \\'des_Subcategoria\\')\":\"Tel\\\\u00e9fonos Celulares\",\"(141, \\'des_Area\\')\":\"Muebles\",\"(141, \\'des_Categoria\\')\":\"Celulares\",\"(141, \\'des_Subcategoria\\')\":\"Tel\\\\u00e9fonos Celulares\",\"(142, \\'des_Area\\')\":\"Muebles\",\"(142, \\'des_Categoria\\')\":\"Celulares\",\"(142, \\'des_Subcategoria\\')\":\"Tel\\\\u00e9fonos Celulares\",\"(143, \\'des_Area\\')\":\"Muebles\",\"(143, \\'des_Categoria\\')\":\"Celulares\",\"(143, \\'des_Subcategoria\\')\":\"Tel\\\\u00e9fonos Celulares\",\"(144, \\'des_Area\\')\":\"Muebles\",\"(144, \\'des_Categoria\\')\":\"Maletas\",\"(144, \\'des_Subcategoria\\')\":\"Equipaje\",\"(145, \\'des_Area\\')\":\"Ropa\",\"(145, \\'des_Categoria\\')\":\"Cuidado Personal\",\"(145, \\'des_Subcategoria\\')\":\"Cuidado Personal\",\"(146, \\'des_Area\\')\":\"Muebles\",\"(146, \\'des_Categoria\\')\":\"Deportes Y Actividades Al Aire Libre\",\"(146, \\'des_Subcategoria\\')\":\"Outdoor Enseres Dom\\\\u00e9sticos\",\"(147, \\'des_Area\\')\":\"Ropa\",\"(147, \\'des_Categoria\\')\":\"Beb\\\\u00e9s\",\"(147, \\'des_Subcategoria\\')\":\"Beb\\\\u00e9s\",\"(148, \\'des_Area\\')\":\"Muebles\",\"(148, \\'des_Categoria\\')\":\"C\\\\u00f3mputo| Tablets y Videojuegos\",\"(148, \\'des_Subcategoria\\')\":\"C\\\\u00e1maras\",\"(149, \\'des_Area\\')\":\"Muebles\",\"(149, \\'des_Categoria\\')\":\"C\\\\u00f3mputo| Tablets y Videojuegos\",\"(149, \\'des_Subcategoria\\')\":\"C\\\\u00e1maras\",\"(150, \\'des_Area\\')\":\"Muebles\",\"(150, \\'des_Categoria\\')\":\"Decoraci\\\\u00f3n\",\"(150, \\'des_Subcategoria\\')\":\"Decoraci\\\\u00f3n\",\"(151, \\'des_Area\\')\":\"Muebles\",\"(151, \\'des_Categoria\\')\":\"Decoraci\\\\u00f3n\",\"(151, \\'des_Subcategoria\\')\":\"Decoraci\\\\u00f3n\",\"(152, \\'des_Area\\')\":\"Muebles\",\"(152, \\'des_Categoria\\')\":\"Muebles de Hogar y Recamara\",\"(152, \\'des_Subcategoria\\')\":\"Camas\",\"(153, \\'des_Area\\')\":\"Muebles\",\"(153, \\'des_Categoria\\')\":\"Muebles de Hogar y Recamara\",\"(153, \\'des_Subcategoria\\')\":\"Camas\",\"(154, \\'des_Area\\')\":\"Muebles\",\"(154, \\'des_Categoria\\')\":\"Muebles de Hogar y Recamara\",\"(154, \\'des_Subcategoria\\')\":\"Camas\",\"(155, \\'des_Area\\')\":\"Ropa\",\"(155, \\'des_Categoria\\')\":\"Cuidado Personal\",\"(155, \\'des_Subcategoria\\')\":\"Cuidado Personal\",\"(156, \\'des_Area\\')\":\"Ropa\",\"(156, \\'des_Categoria\\')\":\"Cuidado Personal\",\"(156, \\'des_Subcategoria\\')\":\"Cuidado Personal\",\"(157, \\'des_Area\\')\":\"Ropa\",\"(157, \\'des_Categoria\\')\":\"Cuidado Personal\",\"(157, \\'des_Subcategoria\\')\":\"Cuidado Personal\",\"(158, \\'des_Area\\')\":\"Ropa\",\"(158, \\'des_Categoria\\')\":\"Cuidado Personal\",\"(158, \\'des_Subcategoria\\')\":\"Cuidado Personal\",\"(159, \\'des_Area\\')\":\"Ropa\",\"(159, \\'des_Categoria\\')\":\"Cuidado Personal\",\"(159, \\'des_Subcategoria\\')\":\"Cuidado Personal\",\"(160, \\'des_Area\\')\":\"Ropa\",\"(160, \\'des_Categoria\\')\":\"Cuidado Personal\",\"(160, \\'des_Subcategoria\\')\":\"Cuidado Personal\",\"(161, \\'des_Area\\')\":\"Ropa\",\"(161, \\'des_Categoria\\')\":\"Juguetes\",\"(161, \\'des_Subcategoria\\')\":\"Juguetes\",\"(162, \\'des_Area\\')\":\"Ropa\",\"(162, \\'des_Categoria\\')\":\"Juguetes\",\"(162, \\'des_Subcategoria\\')\":\"Juguetes\",\"(163, \\'des_Area\\')\":\"Ropa\",\"(163, \\'des_Categoria\\')\":\"Juguetes\",\"(163, \\'des_Subcategoria\\')\":\"Juguetes\",\"(164, \\'des_Area\\')\":\"Muebles\",\"(164, \\'des_Categoria\\')\":\"Oficina y Papeler\\\\u00eda\",\"(164, \\'des_Subcategoria\\')\":\"Oficina\",\"(165, \\'des_Area\\')\":\"Muebles\",\"(165, \\'des_Categoria\\')\":\"Oficina y Papeler\\\\u00eda\",\"(165, \\'des_Subcategoria\\')\":\"Oficina\",\"(166, \\'des_Area\\')\":\"Muebles\",\"(166, \\'des_Categoria\\')\":\"Oficina y Papeler\\\\u00eda\",\"(166, \\'des_Subcategoria\\')\":\"Oficina\",\"(167, \\'des_Area\\')\":\"Muebles\",\"(167, \\'des_Categoria\\')\":\"Oficina y Papeler\\\\u00eda\",\"(167, \\'des_Subcategoria\\')\":\"Oficina\",\"(168, \\'des_Area\\')\":\"Muebles\",\"(168, \\'des_Categoria\\')\":\"Oficina y Papeler\\\\u00eda\",\"(168, \\'des_Subcategoria\\')\":\"Oficina\",\"(169, \\'des_Area\\')\":\"Muebles\",\"(169, \\'des_Categoria\\')\":\"Oficina y Papeler\\\\u00eda\",\"(169, \\'des_Subcategoria\\')\":\"Oficina\",\"(170, \\'des_Area\\')\":\"Muebles\",\"(170, \\'des_Categoria\\')\":\"Muebles de Hogar y Recamara\",\"(170, \\'des_Subcategoria\\')\":\"Beb\\\\u00e9s\",\"(171, \\'des_Area\\')\":\"Muebles\",\"(171, \\'des_Categoria\\')\":\"Muebles de Hogar y Recamara\",\"(171, \\'des_Subcategoria\\')\":\"Beb\\\\u00e9s\",\"(172, \\'des_Area\\')\":\"Muebles\",\"(172, \\'des_Categoria\\')\":\"Muebles de Hogar y Recamara\",\"(172, \\'des_Subcategoria\\')\":\"Beb\\\\u00e9s\",\"(173, \\'des_Area\\')\":\"Muebles\",\"(173, \\'des_Categoria\\')\":\"Celulares\",\"(173, \\'des_Subcategoria\\')\":\"Tel\\\\u00e9fonos Celulares\",\"(174, \\'des_Area\\')\":\"Muebles\",\"(174, \\'des_Categoria\\')\":\"Celulares\",\"(174, \\'des_Subcategoria\\')\":\"Tel\\\\u00e9fonos Celulares\",\"(175, \\'des_Area\\')\":\"Muebles\",\"(175, \\'des_Categoria\\')\":\"Celulares\",\"(175, \\'des_Subcategoria\\')\":\"Tel\\\\u00e9fonos Celulares\",\"(176, \\'des_Area\\')\":\"Muebles\",\"(176, \\'des_Categoria\\')\":\"Celulares\",\"(176, \\'des_Subcategoria\\')\":\"Tel\\\\u00e9fonos Celulares\",\"(177, \\'des_Area\\')\":\"Muebles\",\"(177, \\'des_Categoria\\')\":\"Celulares\",\"(177, \\'des_Subcategoria\\')\":\"Tel\\\\u00e9fonos Celulares\",\"(178, \\'des_Area\\')\":\"Muebles\",\"(178, \\'des_Categoria\\')\":\"Celulares\",\"(178, \\'des_Subcategoria\\')\":\"Tel\\\\u00e9fonos Celulares\",\"(179, \\'des_Area\\')\":\"Muebles\",\"(179, \\'des_Categoria\\')\":\"Celulares\",\"(179, \\'des_Subcategoria\\')\":\"Tel\\\\u00e9fonos Celulares\",\"(180, \\'des_Area\\')\":\"Muebles\",\"(180, \\'des_Categoria\\')\":\"Celulares\",\"(180, \\'des_Subcategoria\\')\":\"Tel\\\\u00e9fonos Celulares\",\"(181, \\'des_Area\\')\":\"Muebles\",\"(181, \\'des_Categoria\\')\":\"Celulares\",\"(181, \\'des_Subcategoria\\')\":\"Accesorios\",\"(182, \\'des_Area\\')\":\"Muebles\",\"(182, \\'des_Categoria\\')\":\"Celulares\",\"(182, \\'des_Subcategoria\\')\":\"Accesorios\",\"(183, \\'des_Area\\')\":\"Muebles\",\"(183, \\'des_Categoria\\')\":\"Ventilaci\\\\u00f3n y Calefacci\\\\u00f3n\",\"(183, \\'des_Subcategoria\\')\":\"Clima de Verano\",\"(184, \\'des_Area\\')\":\"Muebles\",\"(184, \\'des_Categoria\\')\":\"Ventilaci\\\\u00f3n y Calefacci\\\\u00f3n\",\"(184, \\'des_Subcategoria\\')\":\"Clima de Verano\",\"(185, \\'des_Area\\')\":\"Muebles\",\"(185, \\'des_Categoria\\')\":\"Ventilaci\\\\u00f3n y Calefacci\\\\u00f3n\",\"(185, \\'des_Subcategoria\\')\":\"Clima de Verano\",\"(186, \\'des_Area\\')\":\"Muebles\",\"(186, \\'des_Categoria\\')\":\"Decoraci\\\\u00f3n\",\"(186, \\'des_Subcategoria\\')\":\"Decoraci\\\\u00f3n\",\"(187, \\'des_Area\\')\":\"Muebles\",\"(187, \\'des_Categoria\\')\":\"Decoraci\\\\u00f3n\",\"(187, \\'des_Subcategoria\\')\":\"Decoraci\\\\u00f3n\",\"(188, \\'des_Area\\')\":\"Muebles\",\"(188, \\'des_Categoria\\')\":\"Mejoramiento del Hogar\",\"(188, \\'des_Subcategoria\\')\":\"Herramientas\",\"(189, \\'des_Area\\')\":\"Muebles\",\"(189, \\'des_Categoria\\')\":\"Mejoramiento del Hogar\",\"(189, \\'des_Subcategoria\\')\":\"Herramientas\",\"(190, \\'des_Area\\')\":\"Muebles\",\"(190, \\'des_Categoria\\')\":\"Mejoramiento del Hogar\",\"(190, \\'des_Subcategoria\\')\":\"Herramientas\",\"(191, \\'des_Area\\')\":\"Ropa\",\"(191, \\'des_Categoria\\')\":\"Lencer\\\\u00eda\",\"(191, \\'des_Subcategoria\\')\":\"Lencer\\\\u00eda\",\"(192, \\'des_Area\\')\":\"Ropa\",\"(192, \\'des_Categoria\\')\":\"Lencer\\\\u00eda\",\"(192, \\'des_Subcategoria\\')\":\"Lencer\\\\u00eda\",\"(193, \\'des_Area\\')\":\"Muebles\",\"(193, \\'des_Categoria\\')\":\"C\\\\u00f3mputo| Tablets y Videojuegos\",\"(193, \\'des_Subcategoria\\')\":\"C\\\\u00f3mputo\",\"(194, \\'des_Area\\')\":\"Muebles\",\"(194, \\'des_Categoria\\')\":\"Belleza y Cuidado Personal\",\"(194, \\'des_Subcategoria\\')\":\"Cuidado Personal\",\"(195, \\'des_Area\\')\":\"Muebles\",\"(195, \\'des_Categoria\\')\":\"Belleza y Cuidado Personal\",\"(195, \\'des_Subcategoria\\')\":\"Cuidado Personal\",\"(196, \\'des_Area\\')\":\"Muebles\",\"(196, \\'des_Categoria\\')\":\"Belleza y Cuidado Personal\",\"(196, \\'des_Subcategoria\\')\":\"Cuidado Personal\",\"(197, \\'des_Area\\')\":\"Muebles\",\"(197, \\'des_Categoria\\')\":\"Belleza y Cuidado Personal\",\"(197, \\'des_Subcategoria\\')\":\"Cuidado Personal\",\"(198, \\'des_Area\\')\":\"Muebles\",\"(198, \\'des_Categoria\\')\":\"Automotriz\",\"(198, \\'des_Subcategoria\\')\":\"Automotriz\",\"(199, \\'des_Area\\')\":\"Muebles\",\"(199, \\'des_Categoria\\')\":\"C\\\\u00f3mputo| Tablets y Videojuegos\",\"(199, \\'des_Subcategoria\\')\":\"VideoJuegos\",\"(200, \\'des_Area\\')\":\"Muebles\",\"(200, \\'des_Categoria\\')\":\"C\\\\u00f3mputo| Tablets y Videojuegos\",\"(200, \\'des_Subcategoria\\')\":\"VideoJuegos\",\"(201, \\'des_Area\\')\":\"Muebles\",\"(201, \\'des_Categoria\\')\":\"C\\\\u00f3mputo| Tablets y Videojuegos\",\"(201, \\'des_Subcategoria\\')\":\"VideoJuegos\",\"(202, \\'des_Area\\')\":\"Muebles\",\"(202, \\'des_Categoria\\')\":\"C\\\\u00f3mputo| Tablets y Videojuegos\",\"(202, \\'des_Subcategoria\\')\":\"VideoJuegos\",\"(203, \\'des_Area\\')\":\"Ropa\",\"(203, \\'des_Categoria\\')\":\"Ni\\\\u00f1as\",\"(203, \\'des_Subcategoria\\')\":\"Ni\\\\u00f1as\",\"(204, \\'des_Area\\')\":\"Ropa\",\"(204, \\'des_Categoria\\')\":\"Ni\\\\u00f1as\",\"(204, \\'des_Subcategoria\\')\":\"Ni\\\\u00f1as\",\"(205, \\'des_Area\\')\":\"Ropa\",\"(205, \\'des_Categoria\\')\":\"Ni\\\\u00f1as\",\"(205, \\'des_Subcategoria\\')\":\"Ni\\\\u00f1as\",\"(206, \\'des_Area\\')\":\"Muebles\",\"(206, \\'des_Categoria\\')\":\"Muebles de Hogar y Recamara\",\"(206, \\'des_Subcategoria\\')\":\"Muebles de Cocina\",\"(207, \\'des_Area\\')\":\"Ropa\",\"(207, \\'des_Categoria\\')\":\"Ni\\\\u00f1as\",\"(207, \\'des_Subcategoria\\')\":\"Ni\\\\u00f1as\",\"(208, \\'des_Area\\')\":\"Ropa\",\"(208, \\'des_Categoria\\')\":\"Ni\\\\u00f1os\",\"(208, \\'des_Subcategoria\\')\":\"Ni\\\\u00f1os\",\"(209, \\'des_Area\\')\":\"Muebles\",\"(209, \\'des_Categoria\\')\":\"Muebles de Hogar y Recamara\",\"(209, \\'des_Subcategoria\\')\":\"Comedor\",\"(210, \\'des_Area\\')\":\"Muebles\",\"(210, \\'des_Categoria\\')\":\"C\\\\u00f3mputo| Tablets y Videojuegos\",\"(210, \\'des_Subcategoria\\')\":\"C\\\\u00f3mputo\",\"(211, \\'des_Area\\')\":\"Muebles\",\"(211, \\'des_Categoria\\')\":\"C\\\\u00f3mputo| Tablets y Videojuegos\",\"(211, \\'des_Subcategoria\\')\":\"VideoJuegos\",\"(212, \\'des_Area\\')\":\"Muebles\",\"(212, \\'des_Categoria\\')\":\"C\\\\u00f3mputo| Tablets y Videojuegos\",\"(212, \\'des_Subcategoria\\')\":\"VideoJuegos\",\"(213, \\'des_Area\\')\":\"Ropa\",\"(213, \\'des_Categoria\\')\":\"Ni\\\\u00f1os\",\"(213, \\'des_Subcategoria\\')\":\"Ni\\\\u00f1os\",\"(214, \\'des_Area\\')\":\"Ropa\",\"(214, \\'des_Categoria\\')\":\"Ni\\\\u00f1os\",\"(214, \\'des_Subcategoria\\')\":\"Ni\\\\u00f1os\",\"(215, \\'des_Area\\')\":\"Ropa\",\"(215, \\'des_Categoria\\')\":\"Caballeros Accesorios\",\"(215, \\'des_Subcategoria\\')\":\"Caballeros Accesorios\",\"(216, \\'des_Area\\')\":\"Ropa\",\"(216, \\'des_Categoria\\')\":\"Caballeros Accesorios\",\"(216, \\'des_Subcategoria\\')\":\"Caballeros Accesorios\",\"(217, \\'des_Area\\')\":\"Ropa\",\"(217, \\'des_Categoria\\')\":\"Caballeros Accesorios\",\"(217, \\'des_Subcategoria\\')\":\"Caballeros Accesorios\",\"(218, \\'des_Area\\')\":\"Ropa\",\"(218, \\'des_Categoria\\')\":\"Caballeros Accesorios\",\"(218, \\'des_Subcategoria\\')\":\"Caballeros Accesorios\",\"(219, \\'des_Area\\')\":\"Ropa\",\"(219, \\'des_Categoria\\')\":\"Caballeros Accesorios\",\"(219, \\'des_Subcategoria\\')\":\"Caballeros Accesorios\",\"(220, \\'des_Area\\')\":\"Ropa\",\"(220, \\'des_Categoria\\')\":\"Caballeros Accesorios\",\"(220, \\'des_Subcategoria\\')\":\"Caballeros Accesorios\",\"(221, \\'des_Area\\')\":\"Ropa\",\"(221, \\'des_Categoria\\')\":\"Caballeros Accesorios\",\"(221, \\'des_Subcategoria\\')\":\"Caballeros Accesorios\",\"(222, \\'des_Area\\')\":\"Ropa\",\"(222, \\'des_Categoria\\')\":\"Ni\\\\u00f1as\",\"(222, \\'des_Subcategoria\\')\":\"Ni\\\\u00f1as\",\"(223, \\'des_Area\\')\":\"Ropa\",\"(223, \\'des_Categoria\\')\":\"Dama Joven\",\"(223, \\'des_Subcategoria\\')\":\"Dama Joven\",\"(224, \\'des_Area\\')\":\"Ropa\",\"(224, \\'des_Categoria\\')\":\"Dama Joven\",\"(224, \\'des_Subcategoria\\')\":\"Dama Joven\",\"(225, \\'des_Area\\')\":\"Ropa\",\"(225, \\'des_Categoria\\')\":\"Dama Joven\",\"(225, \\'des_Subcategoria\\')\":\"Dama Joven\",\"(226, \\'des_Area\\')\":\"Ropa\",\"(226, \\'des_Categoria\\')\":\"Dama Joven\",\"(226, \\'des_Subcategoria\\')\":\"Dama Joven\",\"(227, \\'des_Area\\')\":\"Ropa\",\"(227, \\'des_Categoria\\')\":\"Dama Joven\",\"(227, \\'des_Subcategoria\\')\":\"Dama Joven\",\"(228, \\'des_Area\\')\":\"Ropa\",\"(228, \\'des_Categoria\\')\":\"Dama Joven\",\"(228, \\'des_Subcategoria\\')\":\"Dama Joven\",\"(229, \\'des_Area\\')\":\"Ropa\",\"(229, \\'des_Categoria\\')\":\"Dama Joven\",\"(229, \\'des_Subcategoria\\')\":\"Dama Joven\",\"(230, \\'des_Area\\')\":\"Ropa\",\"(230, \\'des_Categoria\\')\":\"Dama Joven\",\"(230, \\'des_Subcategoria\\')\":\"Dama Joven\",\"(231, \\'des_Area\\')\":\"Ropa\",\"(231, \\'des_Categoria\\')\":\"Dama Joven\",\"(231, \\'des_Subcategoria\\')\":\"Dama Joven\",\"(232, \\'des_Area\\')\":\"Ropa\",\"(232, \\'des_Categoria\\')\":\"Dama Joven\",\"(232, \\'des_Subcategoria\\')\":\"Dama Joven\",\"(233, \\'des_Area\\')\":\"Ropa\",\"(233, \\'des_Categoria\\')\":\"Zapato Caballero\",\"(233, \\'des_Subcategoria\\')\":\"Zapato Caballero\",\"(234, \\'des_Area\\')\":\"Ropa\",\"(234, \\'des_Categoria\\')\":\"Zapato Caballero\",\"(234, \\'des_Subcategoria\\')\":\"Zapato Caballero\",\"(235, \\'des_Area\\')\":\"Ropa\",\"(235, \\'des_Categoria\\')\":\"Zapato Caballero\",\"(235, \\'des_Subcategoria\\')\":\"Zapato Caballero\",\"(236, \\'des_Area\\')\":\"Ropa\",\"(236, \\'des_Categoria\\')\":\"Zapato Dama\",\"(236, \\'des_Subcategoria\\')\":\"Zapato Dama\",\"(237, \\'des_Area\\')\":\"Ropa\",\"(237, \\'des_Categoria\\')\":\"Zapato Dama\",\"(237, \\'des_Subcategoria\\')\":\"Zapato Dama\",\"(238, \\'des_Area\\')\":\"Ropa\",\"(238, \\'des_Categoria\\')\":\"Zapato Dama\",\"(238, \\'des_Subcategoria\\')\":\"Zapato Dama\",\"(239, \\'des_Area\\')\":\"Ropa\",\"(239, \\'des_Categoria\\')\":\"Zapato Dama\",\"(239, \\'des_Subcategoria\\')\":\"Zapato Dama\",\"(240, \\'des_Area\\')\":\"Ropa\",\"(240, \\'des_Categoria\\')\":\"Zapato Dama\",\"(240, \\'des_Subcategoria\\')\":\"Zapato Dama\",\"(241, \\'des_Area\\')\":\"Ropa\",\"(241, \\'des_Categoria\\')\":\"Zapato Dama\",\"(241, \\'des_Subcategoria\\')\":\"Zapato Dama\",\"(242, \\'des_Area\\')\":\"Ropa\",\"(242, \\'des_Categoria\\')\":\"Zapato Dama\",\"(242, \\'des_Subcategoria\\')\":\"Zapato Dama\",\"(243, \\'des_Area\\')\":\"Ropa\",\"(243, \\'des_Categoria\\')\":\"Lencer\\\\u00eda\",\"(243, \\'des_Subcategoria\\')\":\"Lencer\\\\u00eda\",\"(244, \\'des_Area\\')\":\"Ropa\",\"(244, \\'des_Categoria\\')\":\"Lencer\\\\u00eda\",\"(244, \\'des_Subcategoria\\')\":\"Lencer\\\\u00eda\",\"(245, \\'des_Area\\')\":\"Ropa\",\"(245, \\'des_Categoria\\')\":\"Lencer\\\\u00eda\",\"(245, \\'des_Subcategoria\\')\":\"Lencer\\\\u00eda\",\"(246, \\'des_Area\\')\":\"Ropa\",\"(246, \\'des_Categoria\\')\":\"Lencer\\\\u00eda\",\"(246, \\'des_Subcategoria\\')\":\"Lencer\\\\u00eda\",\"(247, \\'des_Area\\')\":\"Ropa\",\"(247, \\'des_Categoria\\')\":\"Lencer\\\\u00eda\",\"(247, \\'des_Subcategoria\\')\":\"Lencer\\\\u00eda\",\"(248, \\'des_Area\\')\":\"Ropa\",\"(248, \\'des_Categoria\\')\":\"Lencer\\\\u00eda\",\"(248, \\'des_Subcategoria\\')\":\"Lencer\\\\u00eda\",\"(249, \\'des_Area\\')\":\"Ropa\",\"(249, \\'des_Categoria\\')\":\"Lencer\\\\u00eda\",\"(249, \\'des_Subcategoria\\')\":\"Lencer\\\\u00eda\",\"(250, \\'des_Area\\')\":\"Ropa\",\"(250, \\'des_Categoria\\')\":\"Lencer\\\\u00eda\",\"(250, \\'des_Subcategoria\\')\":\"Lencer\\\\u00eda\",\"(251, \\'des_Area\\')\":\"Ropa\",\"(251, \\'des_Categoria\\')\":\"Lencer\\\\u00eda\",\"(251, \\'des_Subcategoria\\')\":\"Lencer\\\\u00eda\",\"(252, \\'des_Area\\')\":\"Ropa\",\"(252, \\'des_Categoria\\')\":\"Lencer\\\\u00eda\",\"(252, \\'des_Subcategoria\\')\":\"Lencer\\\\u00eda\",\"(253, \\'des_Area\\')\":\"Ropa\",\"(253, \\'des_Categoria\\')\":\"Lencer\\\\u00eda\",\"(253, \\'des_Subcategoria\\')\":\"Lencer\\\\u00eda\",\"(254, \\'des_Area\\')\":\"Ropa\",\"(254, \\'des_Categoria\\')\":\"Lencer\\\\u00eda\",\"(254, \\'des_Subcategoria\\')\":\"Lencer\\\\u00eda\",\"(255, \\'des_Area\\')\":\"Ropa\",\"(255, \\'des_Categoria\\')\":\"Lencer\\\\u00eda\",\"(255, \\'des_Subcategoria\\')\":\"Lencer\\\\u00eda\",\"(256, \\'des_Area\\')\":\"Ropa\",\"(256, \\'des_Categoria\\')\":\"Lencer\\\\u00eda\",\"(256, \\'des_Subcategoria\\')\":\"Lencer\\\\u00eda\",\"(257, \\'des_Area\\')\":\"Ropa\",\"(257, \\'des_Categoria\\')\":\"Lencer\\\\u00eda\",\"(257, \\'des_Subcategoria\\')\":\"Lencer\\\\u00eda\",\"(258, \\'des_Area\\')\":\"Ropa\",\"(258, \\'des_Categoria\\')\":\"Caballero Exterior\",\"(258, \\'des_Subcategoria\\')\":\"Caballero Exterior\",\"(259, \\'des_Area\\')\":\"Ropa\",\"(259, \\'des_Categoria\\')\":\"Caballero Exterior\",\"(259, \\'des_Subcategoria\\')\":\"Caballero Exterior\",\"(260, \\'des_Area\\')\":\"Ropa\",\"(260, \\'des_Categoria\\')\":\"Caballero Exterior\",\"(260, \\'des_Subcategoria\\')\":\"Caballero Exterior\",\"(261, \\'des_Area\\')\":\"Ropa\",\"(261, \\'des_Categoria\\')\":\"Caballero Exterior\",\"(261, \\'des_Subcategoria\\')\":\"Caballero Exterior\",\"(262, \\'des_Area\\')\":\"Ropa\",\"(262, \\'des_Categoria\\')\":\"Caballero Exterior\",\"(262, \\'des_Subcategoria\\')\":\"Caballero Exterior\",\"(263, \\'des_Area\\')\":\"Ropa\",\"(263, \\'des_Categoria\\')\":\"Caballero Exterior\",\"(263, \\'des_Subcategoria\\')\":\"Caballero Exterior\",\"(264, \\'des_Area\\')\":\"Ropa\",\"(264, \\'des_Categoria\\')\":\"Caballero Exterior\",\"(264, \\'des_Subcategoria\\')\":\"Caballero Exterior\",\"(265, \\'des_Area\\')\":\"Ropa\",\"(265, \\'des_Categoria\\')\":\"Caballero Exterior\",\"(265, \\'des_Subcategoria\\')\":\"Caballero Exterior\",\"(266, \\'des_Area\\')\":\"Ropa\",\"(266, \\'des_Categoria\\')\":\"Lencer\\\\u00eda\",\"(266, \\'des_Subcategoria\\')\":\"Lencer\\\\u00eda\",\"(267, \\'des_Area\\')\":\"Ropa\",\"(267, \\'des_Categoria\\')\":\"Lencer\\\\u00eda\",\"(267, \\'des_Subcategoria\\')\":\"Lencer\\\\u00eda\",\"(268, \\'des_Area\\')\":\"Ropa\",\"(268, \\'des_Categoria\\')\":\"Lencer\\\\u00eda\",\"(268, \\'des_Subcategoria\\')\":\"Lencer\\\\u00eda\",\"(269, \\'des_Area\\')\":\"Ropa\",\"(269, \\'des_Categoria\\')\":\"Lencer\\\\u00eda\",\"(269, \\'des_Subcategoria\\')\":\"Lencer\\\\u00eda\",\"(270, \\'des_Area\\')\":\"Ropa\",\"(270, \\'des_Categoria\\')\":\"Lencer\\\\u00eda\",\"(270, \\'des_Subcategoria\\')\":\"Lencer\\\\u00eda\",\"(271, \\'des_Area\\')\":\"Ropa\",\"(271, \\'des_Categoria\\')\":\"Lencer\\\\u00eda\",\"(271, \\'des_Subcategoria\\')\":\"Lencer\\\\u00eda\",\"(272, \\'des_Area\\')\":\"Ropa\",\"(272, \\'des_Categoria\\')\":\"Lencer\\\\u00eda\",\"(272, \\'des_Subcategoria\\')\":\"Lencer\\\\u00eda\",\"(273, \\'des_Area\\')\":\"Ropa\",\"(273, \\'des_Categoria\\')\":\"Lencer\\\\u00eda\",\"(273, \\'des_Subcategoria\\')\":\"Lencer\\\\u00eda\",\"(274, \\'des_Area\\')\":\"Ropa\",\"(274, \\'des_Categoria\\')\":\"Lencer\\\\u00eda\",\"(274, \\'des_Subcategoria\\')\":\"Lencer\\\\u00eda\",\"(275, \\'des_Area\\')\":\"Ropa\",\"(275, \\'des_Categoria\\')\":\"Lencer\\\\u00eda\",\"(275, \\'des_Subcategoria\\')\":\"Lencer\\\\u00eda\",\"(276, \\'des_Area\\')\":\"Ropa\",\"(276, \\'des_Categoria\\')\":\"Lencer\\\\u00eda\",\"(276, \\'des_Subcategoria\\')\":\"Lencer\\\\u00eda\",\"(277, \\'des_Area\\')\":\"Ropa\",\"(277, \\'des_Categoria\\')\":\"Lencer\\\\u00eda\",\"(277, \\'des_Subcategoria\\')\":\"Lencer\\\\u00eda\",\"(278, \\'des_Area\\')\":\"Ropa\",\"(278, \\'des_Categoria\\')\":\"Lencer\\\\u00eda\",\"(278, \\'des_Subcategoria\\')\":\"Lencer\\\\u00eda\",\"(279, \\'des_Area\\')\":\"Ropa\",\"(279, \\'des_Categoria\\')\":\"Lencer\\\\u00eda\",\"(279, \\'des_Subcategoria\\')\":\"Lencer\\\\u00eda\",\"(280, \\'des_Area\\')\":\"Ropa\",\"(280, \\'des_Categoria\\')\":\"Lencer\\\\u00eda\",\"(280, \\'des_Subcategoria\\')\":\"Lencer\\\\u00eda\",\"(281, \\'des_Area\\')\":\"Ropa\",\"(281, \\'des_Categoria\\')\":\"Lencer\\\\u00eda\",\"(281, \\'des_Subcategoria\\')\":\"Lencer\\\\u00eda\",\"(282, \\'des_Area\\')\":\"Ropa\",\"(282, \\'des_Categoria\\')\":\"Beb\\\\u00e9s\",\"(282, \\'des_Subcategoria\\')\":\"Beb\\\\u00e9s\",\"(283, \\'des_Area\\')\":\"Ropa\",\"(283, \\'des_Categoria\\')\":\"Dama Se\\\\u00f1ora\",\"(283, \\'des_Subcategoria\\')\":\"Dama Se\\\\u00f1ora\",\"(284, \\'des_Area\\')\":\"Ropa\",\"(284, \\'des_Categoria\\')\":\"Dama Se\\\\u00f1ora\",\"(284, \\'des_Subcategoria\\')\":\"Dama Se\\\\u00f1ora\",\"(285, \\'des_Area\\')\":\"Ropa\",\"(285, \\'des_Categoria\\')\":\"Dama Se\\\\u00f1ora\",\"(285, \\'des_Subcategoria\\')\":\"Dama Se\\\\u00f1ora\",\"(286, \\'des_Area\\')\":\"Ropa\",\"(286, \\'des_Categoria\\')\":\"Cuidado Personal\",\"(286, \\'des_Subcategoria\\')\":\"Cuidado Personal\",\"(287, \\'des_Area\\')\":\"Ropa\",\"(287, \\'des_Categoria\\')\":\"Cuidado Personal\",\"(287, \\'des_Subcategoria\\')\":\"Cuidado Personal\",\"(288, \\'des_Area\\')\":\"Ropa\",\"(288, \\'des_Categoria\\')\":\"Cuidado Personal\",\"(288, \\'des_Subcategoria\\')\":\"Cuidado Personal\",\"(289, \\'des_Area\\')\":\"Ropa\",\"(289, \\'des_Categoria\\')\":\"Cuidado Personal\",\"(289, \\'des_Subcategoria\\')\":\"Cuidado Personal\",\"(290, \\'des_Area\\')\":\"Ropa\",\"(290, \\'des_Categoria\\')\":\"Cuidado Personal\",\"(290, \\'des_Subcategoria\\')\":\"Cuidado Personal\",\"(291, \\'des_Area\\')\":\"Ropa\",\"(291, \\'des_Categoria\\')\":\"Cuidado Personal\",\"(291, \\'des_Subcategoria\\')\":\"Cuidado Personal\",\"(292, \\'des_Area\\')\":\"Ropa\",\"(292, \\'des_Categoria\\')\":\"Lencer\\\\u00eda\",\"(292, \\'des_Subcategoria\\')\":\"Lencer\\\\u00eda\",\"(293, \\'des_Area\\')\":\"Ropa\",\"(293, \\'des_Categoria\\')\":\"Deportivo\",\"(293, \\'des_Subcategoria\\')\":\"Deportivo\",\"(294, \\'des_Area\\')\":\"Ropa\",\"(294, \\'des_Categoria\\')\":\"Lencer\\\\u00eda\",\"(294, \\'des_Subcategoria\\')\":\"Lencer\\\\u00eda\",\"(295, \\'des_Area\\')\":\"Ropa\",\"(295, \\'des_Categoria\\')\":\"Lencer\\\\u00eda\",\"(295, \\'des_Subcategoria\\')\":\"Lencer\\\\u00eda\",\"(296, \\'des_Area\\')\":\"Ropa\",\"(296, \\'des_Categoria\\')\":\"Lencer\\\\u00eda\",\"(296, \\'des_Subcategoria\\')\":\"Lencer\\\\u00eda\",\"(297, \\'des_Area\\')\":\"Ropa\",\"(297, \\'des_Categoria\\')\":\"Dama Joven\",\"(297, \\'des_Subcategoria\\')\":\"Dama Joven\",\"(298, \\'des_Area\\')\":\"Ropa\",\"(298, \\'des_Categoria\\')\":\"Dama Joven\",\"(298, \\'des_Subcategoria\\')\":\"Dama Joven\",\"(299, \\'des_Area\\')\":\"Ropa\",\"(299, \\'des_Categoria\\')\":\"Dama Joven\",\"(299, \\'des_Subcategoria\\')\":\"Dama Joven\",\"(300, \\'des_Area\\')\":\"Ropa\",\"(300, \\'des_Categoria\\')\":\"Juguetes\",\"(300, \\'des_Subcategoria\\')\":\"Juguetes\",\"(301, \\'des_Area\\')\":\"Ropa\",\"(301, \\'des_Categoria\\')\":\"Juguetes\",\"(301, \\'des_Subcategoria\\')\":\"Juguetes\",\"(302, \\'des_Area\\')\":\"Ropa\",\"(302, \\'des_Categoria\\')\":\"Juguetes\",\"(302, \\'des_Subcategoria\\')\":\"Juguetes\",\"(303, \\'des_Area\\')\":\"Ropa\",\"(303, \\'des_Categoria\\')\":\"Juguetes\",\"(303, \\'des_Subcategoria\\')\":\"Juguetes\",\"(304, \\'des_Area\\')\":\"Ropa\",\"(304, \\'des_Categoria\\')\":\"Juguetes\",\"(304, \\'des_Subcategoria\\')\":\"Juguetes\",\"(305, \\'des_Area\\')\":\"Ropa\",\"(305, \\'des_Categoria\\')\":\"Juguetes\",\"(305, \\'des_Subcategoria\\')\":\"Juguetes\",\"(306, \\'des_Area\\')\":\"Ropa\",\"(306, \\'des_Categoria\\')\":\"Juguetes\",\"(306, \\'des_Subcategoria\\')\":\"Juguetes\",\"(307, \\'des_Area\\')\":\"Ropa\",\"(307, \\'des_Categoria\\')\":\"Juguetes\",\"(307, \\'des_Subcategoria\\')\":\"Juguetes\",\"(308, \\'des_Area\\')\":\"Ropa\",\"(308, \\'des_Categoria\\')\":\"Juguetes\",\"(308, \\'des_Subcategoria\\')\":\"Juguetes\",\"(309, \\'des_Area\\')\":\"Ropa\",\"(309, \\'des_Categoria\\')\":\"Juguetes\",\"(309, \\'des_Subcategoria\\')\":\"Juguetes\",\"(310, \\'des_Area\\')\":\"Ropa\",\"(310, \\'des_Categoria\\')\":\"Juguetes\",\"(310, \\'des_Subcategoria\\')\":\"Juguetes\",\"(311, \\'des_Area\\')\":\"Ropa\",\"(311, \\'des_Categoria\\')\":\"Juguetes\",\"(311, \\'des_Subcategoria\\')\":\"Juguetes\",\"(312, \\'des_Area\\')\":\"Ropa\",\"(312, \\'des_Categoria\\')\":\"Juguetes\",\"(312, \\'des_Subcategoria\\')\":\"Juguetes\",\"(313, \\'des_Area\\')\":\"Ropa\",\"(313, \\'des_Categoria\\')\":\"Lencer\\\\u00eda\",\"(313, \\'des_Subcategoria\\')\":\"Lencer\\\\u00eda\",\"(314, \\'des_Area\\')\":\"Ropa\",\"(314, \\'des_Categoria\\')\":\"Lencer\\\\u00eda\",\"(314, \\'des_Subcategoria\\')\":\"Lencer\\\\u00eda\",\"(315, \\'des_Area\\')\":\"Ropa\",\"(315, \\'des_Categoria\\')\":\"Lencer\\\\u00eda\",\"(315, \\'des_Subcategoria\\')\":\"Lencer\\\\u00eda\",\"(316, \\'des_Area\\')\":\"Ropa\",\"(316, \\'des_Categoria\\')\":\"Lencer\\\\u00eda\",\"(316, \\'des_Subcategoria\\')\":\"Lencer\\\\u00eda\",\"(317, \\'des_Area\\')\":\"Ropa\",\"(317, \\'des_Categoria\\')\":\"Lencer\\\\u00eda\",\"(317, \\'des_Subcategoria\\')\":\"Lencer\\\\u00eda\",\"(318, \\'des_Area\\')\":\"Ropa\",\"(318, \\'des_Categoria\\')\":\"Lencer\\\\u00eda\",\"(318, \\'des_Subcategoria\\')\":\"Lencer\\\\u00eda\",\"(319, \\'des_Area\\')\":\"Ropa\",\"(319, \\'des_Categoria\\')\":\"Lencer\\\\u00eda\",\"(319, \\'des_Subcategoria\\')\":\"Lencer\\\\u00eda\",\"(320, \\'des_Area\\')\":\"Ropa\",\"(320, \\'des_Categoria\\')\":\"Lencer\\\\u00eda\",\"(320, \\'des_Subcategoria\\')\":\"Lencer\\\\u00eda\",\"(321, \\'des_Area\\')\":\"Ropa\",\"(321, \\'des_Categoria\\')\":\"Lencer\\\\u00eda\",\"(321, \\'des_Subcategoria\\')\":\"Lencer\\\\u00eda\",\"(322, \\'des_Area\\')\":\"Ropa\",\"(322, \\'des_Categoria\\')\":\"Lencer\\\\u00eda\",\"(322, \\'des_Subcategoria\\')\":\"Lencer\\\\u00eda\",\"(323, \\'des_Area\\')\":\"Ropa\",\"(323, \\'des_Categoria\\')\":\"Lencer\\\\u00eda\",\"(323, \\'des_Subcategoria\\')\":\"Lencer\\\\u00eda\",\"(324, \\'des_Area\\')\":\"Ropa\",\"(324, \\'des_Categoria\\')\":\"Lencer\\\\u00eda\",\"(324, \\'des_Subcategoria\\')\":\"Lencer\\\\u00eda\",\"(325, \\'des_Area\\')\":\"Ropa\",\"(325, \\'des_Categoria\\')\":\"Lencer\\\\u00eda\",\"(325, \\'des_Subcategoria\\')\":\"Lencer\\\\u00eda\",\"(326, \\'des_Area\\')\":\"Ropa\",\"(326, \\'des_Categoria\\')\":\"Lencer\\\\u00eda\",\"(326, \\'des_Subcategoria\\')\":\"Lencer\\\\u00eda\",\"(327, \\'des_Area\\')\":\"Ropa\",\"(327, \\'des_Categoria\\')\":\"Lencer\\\\u00eda\",\"(327, \\'des_Subcategoria\\')\":\"Lencer\\\\u00eda\",\"(328, \\'des_Area\\')\":\"Ropa\",\"(328, \\'des_Categoria\\')\":\"Lencer\\\\u00eda\",\"(328, \\'des_Subcategoria\\')\":\"Lencer\\\\u00eda\",\"(329, \\'des_Area\\')\":\"Ropa\",\"(329, \\'des_Categoria\\')\":\"Lencer\\\\u00eda\",\"(329, \\'des_Subcategoria\\')\":\"Lencer\\\\u00eda\",\"(330, \\'des_Area\\')\":\"Ropa\",\"(330, \\'des_Categoria\\')\":\"Lencer\\\\u00eda\",\"(330, \\'des_Subcategoria\\')\":\"Lencer\\\\u00eda\",\"(331, \\'des_Area\\')\":\"Ropa\",\"(331, \\'des_Categoria\\')\":\"Lencer\\\\u00eda\",\"(331, \\'des_Subcategoria\\')\":\"Lencer\\\\u00eda\",\"(332, \\'des_Area\\')\":\"Ropa\",\"(332, \\'des_Categoria\\')\":\"Lencer\\\\u00eda\",\"(332, \\'des_Subcategoria\\')\":\"Lencer\\\\u00eda\",\"(333, \\'des_Area\\')\":\"Ropa\",\"(333, \\'des_Categoria\\')\":\"Lencer\\\\u00eda\",\"(333, \\'des_Subcategoria\\')\":\"Lencer\\\\u00eda\",\"(334, \\'des_Area\\')\":\"Ropa\",\"(334, \\'des_Categoria\\')\":\"Lencer\\\\u00eda\",\"(334, \\'des_Subcategoria\\')\":\"Lencer\\\\u00eda\",\"(335, \\'des_Area\\')\":\"Ropa\",\"(335, \\'des_Categoria\\')\":\"Lencer\\\\u00eda\",\"(335, \\'des_Subcategoria\\')\":\"Lencer\\\\u00eda\",\"(336, \\'des_Area\\')\":\"Ropa\",\"(336, \\'des_Categoria\\')\":\"Lencer\\\\u00eda\",\"(336, \\'des_Subcategoria\\')\":\"Lencer\\\\u00eda\",\"(337, \\'des_Area\\')\":\"Ropa\",\"(337, \\'des_Categoria\\')\":\"Lencer\\\\u00eda\",\"(337, \\'des_Subcategoria\\')\":\"Lencer\\\\u00eda\",\"(338, \\'des_Area\\')\":\"Ropa\",\"(338, \\'des_Categoria\\')\":\"Lencer\\\\u00eda\",\"(338, \\'des_Subcategoria\\')\":\"Lencer\\\\u00eda\",\"(339, \\'des_Area\\')\":\"Ropa\",\"(339, \\'des_Categoria\\')\":\"Lencer\\\\u00eda\",\"(339, \\'des_Subcategoria\\')\":\"Lencer\\\\u00eda\",\"(340, \\'des_Area\\')\":\"Ropa\",\"(340, \\'des_Categoria\\')\":\"Caballero Exterior\",\"(340, \\'des_Subcategoria\\')\":\"Caballero Exterior\",\"(341, \\'des_Area\\')\":\"Ropa\",\"(341, \\'des_Categoria\\')\":\"Caballero Exterior\",\"(341, \\'des_Subcategoria\\')\":\"Caballero Exterior\",\"(342, \\'des_Area\\')\":\"Ropa\",\"(342, \\'des_Categoria\\')\":\"Caballero Exterior\",\"(342, \\'des_Subcategoria\\')\":\"Caballero Exterior\",\"(343, \\'des_Area\\')\":\"Ropa\",\"(343, \\'des_Categoria\\')\":\"Caballero Exterior\",\"(343, \\'des_Subcategoria\\')\":\"Caballero Exterior\",\"(344, \\'des_Area\\')\":\"Ropa\",\"(344, \\'des_Categoria\\')\":\"Caballero Exterior\",\"(344, \\'des_Subcategoria\\')\":\"Caballero Exterior\",\"(345, \\'des_Area\\')\":\"Ropa\",\"(345, \\'des_Categoria\\')\":\"Caballero Exterior\",\"(345, \\'des_Subcategoria\\')\":\"Caballero Exterior\",\"(346, \\'des_Area\\')\":\"Ropa\",\"(346, \\'des_Categoria\\')\":\"Caballero Exterior\",\"(346, \\'des_Subcategoria\\')\":\"Caballero Exterior\",\"(347, \\'des_Area\\')\":\"Ropa\",\"(347, \\'des_Categoria\\')\":\"Caballero Exterior\",\"(347, \\'des_Subcategoria\\')\":\"Caballero Exterior\",\"(348, \\'des_Area\\')\":\"Ropa\",\"(348, \\'des_Categoria\\')\":\"Caballero Exterior\",\"(348, \\'des_Subcategoria\\')\":\"Caballero Exterior\",\"(349, \\'des_Area\\')\":\"Ropa\",\"(349, \\'des_Categoria\\')\":\"Caballero Exterior\",\"(349, \\'des_Subcategoria\\')\":\"Caballero Exterior\",\"(350, \\'des_Area\\')\":\"Ropa\",\"(350, \\'des_Categoria\\')\":\"Caballero Exterior\",\"(350, \\'des_Subcategoria\\')\":\"Caballero Exterior\",\"(351, \\'des_Area\\')\":\"Ropa\",\"(351, \\'des_Categoria\\')\":\"Caballero Exterior\",\"(351, \\'des_Subcategoria\\')\":\"Caballero Exterior\",\"(352, \\'des_Area\\')\":\"Ropa\",\"(352, \\'des_Categoria\\')\":\"Caballero Exterior\",\"(352, \\'des_Subcategoria\\')\":\"Caballero Exterior\",\"(353, \\'des_Area\\')\":\"Ropa\",\"(353, \\'des_Categoria\\')\":\"Ni\\\\u00f1os\",\"(353, \\'des_Subcategoria\\')\":\"Ni\\\\u00f1os\",\"(354, \\'des_Area\\')\":\"Ropa\",\"(354, \\'des_Categoria\\')\":\"Caballero Exterior\",\"(354, \\'des_Subcategoria\\')\":\"Caballero Exterior\",\"(355, \\'des_Area\\')\":\"Ropa\",\"(355, \\'des_Categoria\\')\":\"Caballero Exterior\",\"(355, \\'des_Subcategoria\\')\":\"Caballero Exterior\",\"(356, \\'des_Area\\')\":\"Ropa\",\"(356, \\'des_Categoria\\')\":\"Caballero Exterior\",\"(356, \\'des_Subcategoria\\')\":\"Caballero Exterior\",\"(357, \\'des_Area\\')\":\"Ropa\",\"(357, \\'des_Categoria\\')\":\"Caballero Exterior\",\"(357, \\'des_Subcategoria\\')\":\"Caballero Exterior\",\"(358, \\'des_Area\\')\":\"Ropa\",\"(358, \\'des_Categoria\\')\":\"Caballero Exterior\",\"(358, \\'des_Subcategoria\\')\":\"Caballero Exterior\",\"(359, \\'des_Area\\')\":\"Ropa\",\"(359, \\'des_Categoria\\')\":\"Deportivo\",\"(359, \\'des_Subcategoria\\')\":\"Deportivo\",\"(360, \\'des_Area\\')\":\"Ropa\",\"(360, \\'des_Categoria\\')\":\"Deportivo\",\"(360, \\'des_Subcategoria\\')\":\"Deportivo\",\"(361, \\'des_Area\\')\":\"Ropa\",\"(361, \\'des_Categoria\\')\":\"Caballero Exterior\",\"(361, \\'des_Subcategoria\\')\":\"Caballero Exterior\",\"(362, \\'des_Area\\')\":\"Ropa\",\"(362, \\'des_Categoria\\')\":\"Dama Se\\\\u00f1ora\",\"(362, \\'des_Subcategoria\\')\":\"Dama Se\\\\u00f1ora\",\"(363, \\'des_Area\\')\":\"Ropa\",\"(363, \\'des_Categoria\\')\":\"Dama Se\\\\u00f1ora\",\"(363, \\'des_Subcategoria\\')\":\"Dama Se\\\\u00f1ora\",\"(364, \\'des_Area\\')\":\"Ropa\",\"(364, \\'des_Categoria\\')\":\"Dama Joven\",\"(364, \\'des_Subcategoria\\')\":\"Dama Joven\",\"(365, \\'des_Area\\')\":\"Ropa\",\"(365, \\'des_Categoria\\')\":\"Dama Joven\",\"(365, \\'des_Subcategoria\\')\":\"Dama Joven\",\"(366, \\'des_Area\\')\":\"Ropa\",\"(366, \\'des_Categoria\\')\":\"Ni\\\\u00f1as\",\"(366, \\'des_Subcategoria\\')\":\"Ni\\\\u00f1as\",\"(367, \\'des_Area\\')\":\"Ropa\",\"(367, \\'des_Categoria\\')\":\"Ni\\\\u00f1as\",\"(367, \\'des_Subcategoria\\')\":\"Ni\\\\u00f1as\",\"(368, \\'des_Area\\')\":\"Ropa\",\"(368, \\'des_Categoria\\')\":\"Ni\\\\u00f1as\",\"(368, \\'des_Subcategoria\\')\":\"Ni\\\\u00f1as\",\"(369, \\'des_Area\\')\":\"Ropa\",\"(369, \\'des_Categoria\\')\":\"Zapato Dama\",\"(369, \\'des_Subcategoria\\')\":\"Zapato Dama\",\"(370, \\'des_Area\\')\":\"Ropa\",\"(370, \\'des_Categoria\\')\":\"Zapato Dama\",\"(370, \\'des_Subcategoria\\')\":\"Zapato Dama\",\"(371, \\'des_Area\\')\":\"Ropa\",\"(371, \\'des_Categoria\\')\":\"Zapato Dama\",\"(371, \\'des_Subcategoria\\')\":\"Zapato Dama\",\"(372, \\'des_Area\\')\":\"Ropa\",\"(372, \\'des_Categoria\\')\":\"Deportivo\",\"(372, \\'des_Subcategoria\\')\":\"Deportivo\",\"(373, \\'des_Area\\')\":\"Ropa\",\"(373, \\'des_Categoria\\')\":\"Deportivo\",\"(373, \\'des_Subcategoria\\')\":\"Deportivo\",\"(374, \\'des_Area\\')\":\"Ropa\",\"(374, \\'des_Categoria\\')\":\"Deportivo\",\"(374, \\'des_Subcategoria\\')\":\"Deportivo\",\"(375, \\'des_Area\\')\":\"Ropa\",\"(375, \\'des_Categoria\\')\":\"Deportivo\",\"(375, \\'des_Subcategoria\\')\":\"Deportivo\",\"(376, \\'des_Area\\')\":\"Ropa\",\"(376, \\'des_Categoria\\')\":\"Deportivo\",\"(376, \\'des_Subcategoria\\')\":\"Deportivo\",\"(377, \\'des_Area\\')\":\"Ropa\",\"(377, \\'des_Categoria\\')\":\"Deportivo\",\"(377, \\'des_Subcategoria\\')\":\"Deportivo\",\"(378, \\'des_Area\\')\":\"Ropa\",\"(378, \\'des_Categoria\\')\":\"Deportivo\",\"(378, \\'des_Subcategoria\\')\":\"Deportivo\",\"(379, \\'des_Area\\')\":\"Ropa\",\"(379, \\'des_Categoria\\')\":\"Ni\\\\u00f1as\",\"(379, \\'des_Subcategoria\\')\":\"Ni\\\\u00f1as\",\"(380, \\'des_Area\\')\":\"Ropa\",\"(380, \\'des_Categoria\\')\":\"Dama Joven\",\"(380, \\'des_Subcategoria\\')\":\"Dama Joven\",\"(381, \\'des_Area\\')\":\"Ropa\",\"(381, \\'des_Categoria\\')\":\"Dama Joven\",\"(381, \\'des_Subcategoria\\')\":\"Dama Joven\",\"(382, \\'des_Area\\')\":\"Ropa\",\"(382, \\'des_Categoria\\')\":\"Zapato Caballero\",\"(382, \\'des_Subcategoria\\')\":\"Zapato Caballero\",\"(383, \\'des_Area\\')\":\"Ropa\",\"(383, \\'des_Categoria\\')\":\"Zapato Caballero\",\"(383, \\'des_Subcategoria\\')\":\"Zapato Caballero\",\"(384, \\'des_Area\\')\":\"Ropa\",\"(384, \\'des_Categoria\\')\":\"Zapato Caballero\",\"(384, \\'des_Subcategoria\\')\":\"Zapato Caballero\",\"(385, \\'des_Area\\')\":\"Ropa\",\"(385, \\'des_Categoria\\')\":\"Zapato Caballero\",\"(385, \\'des_Subcategoria\\')\":\"Zapato Caballero\",\"(386, \\'des_Area\\')\":\"Ropa\",\"(386, \\'des_Categoria\\')\":\"Zapato Caballero\",\"(386, \\'des_Subcategoria\\')\":\"Zapato Caballero\",\"(387, \\'des_Area\\')\":\"Ropa\",\"(387, \\'des_Categoria\\')\":\"Zapato Caballero\",\"(387, \\'des_Subcategoria\\')\":\"Zapato Caballero\",\"(388, \\'des_Area\\')\":\"Ropa\",\"(388, \\'des_Categoria\\')\":\"Zapato Caballero\",\"(388, \\'des_Subcategoria\\')\":\"Zapato Caballero\",\"(389, \\'des_Area\\')\":\"Ropa\",\"(389, \\'des_Categoria\\')\":\"Zapato Caballero\",\"(389, \\'des_Subcategoria\\')\":\"Zapato Caballero\",\"(390, \\'des_Area\\')\":\"Ropa\",\"(390, \\'des_Categoria\\')\":\"Zapato Dama\",\"(390, \\'des_Subcategoria\\')\":\"Zapato Dama\",\"(391, \\'des_Area\\')\":\"Ropa\",\"(391, \\'des_Categoria\\')\":\"Zapato Dama\",\"(391, \\'des_Subcategoria\\')\":\"Zapato Dama\",\"(392, \\'des_Area\\')\":\"Ropa\",\"(392, \\'des_Categoria\\')\":\"Zapato Dama\",\"(392, \\'des_Subcategoria\\')\":\"Zapato Dama\",\"(393, \\'des_Area\\')\":\"Ropa\",\"(393, \\'des_Categoria\\')\":\"Zapato Dama\",\"(393, \\'des_Subcategoria\\')\":\"Zapato Dama\",\"(394, \\'des_Area\\')\":\"Ropa\",\"(394, \\'des_Categoria\\')\":\"Zapato Dama\",\"(394, \\'des_Subcategoria\\')\":\"Zapato Dama\",\"(395, \\'des_Area\\')\":\"Ropa\",\"(395, \\'des_Categoria\\')\":\"Zapato Infantil\",\"(395, \\'des_Subcategoria\\')\":\"Zapato Infantil\",\"(396, \\'des_Area\\')\":\"Ropa\",\"(396, \\'des_Categoria\\')\":\"Juguetes\",\"(396, \\'des_Subcategoria\\')\":\"Juguetes\",\"(397, \\'des_Area\\')\":\"Ropa\",\"(397, \\'des_Categoria\\')\":\"Juguetes\",\"(397, \\'des_Subcategoria\\')\":\"Juguetes\",\"(398, \\'des_Area\\')\":\"Ropa\",\"(398, \\'des_Categoria\\')\":\"Juguetes\",\"(398, \\'des_Subcategoria\\')\":\"Juguetes\",\"(399, \\'des_Area\\')\":\"Ropa\",\"(399, \\'des_Categoria\\')\":\"Juguetes\",\"(399, \\'des_Subcategoria\\')\":\"Juguetes\",\"(400, \\'des_Area\\')\":\"Ropa\",\"(400, \\'des_Categoria\\')\":\"Juguetes\",\"(400, \\'des_Subcategoria\\')\":\"Juguetes\",\"(401, \\'des_Area\\')\":\"Ropa\",\"(401, \\'des_Categoria\\')\":\"Juguetes\",\"(401, \\'des_Subcategoria\\')\":\"Juguetes\",\"(402, \\'des_Area\\')\":\"Ropa\",\"(402, \\'des_Categoria\\')\":\"Juguetes\",\"(402, \\'des_Subcategoria\\')\":\"Juguetes\",\"(403, \\'des_Area\\')\":\"Ropa\",\"(403, \\'des_Categoria\\')\":\"Juguetes\",\"(403, \\'des_Subcategoria\\')\":\"Juguetes\",\"(404, \\'des_Area\\')\":\"Ropa\",\"(404, \\'des_Categoria\\')\":\"Juguetes\",\"(404, \\'des_Subcategoria\\')\":\"Juguetes\",\"(405, \\'des_Area\\')\":\"Ropa\",\"(405, \\'des_Categoria\\')\":\"Juguetes\",\"(405, \\'des_Subcategoria\\')\":\"Juguetes\",\"(406, \\'des_Area\\')\":\"Ropa\",\"(406, \\'des_Categoria\\')\":\"Juguetes\",\"(406, \\'des_Subcategoria\\')\":\"Juguetes\",\"(407, \\'des_Area\\')\":\"Ropa\",\"(407, \\'des_Categoria\\')\":\"Juguetes\",\"(407, \\'des_Subcategoria\\')\":\"Juguetes\",\"(408, \\'des_Area\\')\":\"Ropa\",\"(408, \\'des_Categoria\\')\":\"Juguetes\",\"(408, \\'des_Subcategoria\\')\":\"Juguetes\",\"(409, \\'des_Area\\')\":\"Ropa\",\"(409, \\'des_Categoria\\')\":\"Juguetes\",\"(409, \\'des_Subcategoria\\')\":\"Juguetes\",\"(410, \\'des_Area\\')\":\"Ropa\",\"(410, \\'des_Categoria\\')\":\"Juguetes\",\"(410, \\'des_Subcategoria\\')\":\"Juguetes\",\"(411, \\'des_Area\\')\":\"Ropa\",\"(411, \\'des_Categoria\\')\":\"Juguetes\",\"(411, \\'des_Subcategoria\\')\":\"Juguetes\",\"(412, \\'des_Area\\')\":\"Ropa\",\"(412, \\'des_Categoria\\')\":\"Juguetes\",\"(412, \\'des_Subcategoria\\')\":\"Juguetes\",\"(413, \\'des_Area\\')\":\"Ropa\",\"(413, \\'des_Categoria\\')\":\"Juguetes\",\"(413, \\'des_Subcategoria\\')\":\"Juguetes\",\"(414, \\'des_Area\\')\":\"Ropa\",\"(414, \\'des_Categoria\\')\":\"Juguetes\",\"(414, \\'des_Subcategoria\\')\":\"Juguetes\",\"(415, \\'des_Area\\')\":\"Ropa\",\"(415, \\'des_Categoria\\')\":\"Juguetes\",\"(415, \\'des_Subcategoria\\')\":\"Juguetes\",\"(416, \\'des_Area\\')\":\"Ropa\",\"(416, \\'des_Categoria\\')\":\"Juguetes\",\"(416, \\'des_Subcategoria\\')\":\"Juguetes\",\"(417, \\'des_Area\\')\":\"Ropa\",\"(417, \\'des_Categoria\\')\":\"Juguetes\",\"(417, \\'des_Subcategoria\\')\":\"Juguetes\",\"(418, \\'des_Area\\')\":\"Ropa\",\"(418, \\'des_Categoria\\')\":\"Juguetes\",\"(418, \\'des_Subcategoria\\')\":\"Juguetes\",\"(419, \\'des_Area\\')\":\"Ropa\",\"(419, \\'des_Categoria\\')\":\"Juguetes\",\"(419, \\'des_Subcategoria\\')\":\"Juguetes\",\"(420, \\'des_Area\\')\":\"Ropa\",\"(420, \\'des_Categoria\\')\":\"Juguetes\",\"(420, \\'des_Subcategoria\\')\":\"Juguetes\",\"(421, \\'des_Area\\')\":\"Ropa\",\"(421, \\'des_Categoria\\')\":\"Juguetes\",\"(421, \\'des_Subcategoria\\')\":\"Juguetes\",\"(422, \\'des_Area\\')\":\"Ropa\",\"(422, \\'des_Categoria\\')\":\"Juguetes\",\"(422, \\'des_Subcategoria\\')\":\"Juguetes\",\"(423, \\'des_Area\\')\":\"Ropa\",\"(423, \\'des_Categoria\\')\":\"Juguetes\",\"(423, \\'des_Subcategoria\\')\":\"Juguetes\",\"(424, \\'des_Area\\')\":\"Ropa\",\"(424, \\'des_Categoria\\')\":\"Juguetes\",\"(424, \\'des_Subcategoria\\')\":\"Juguetes\",\"(425, \\'des_Area\\')\":\"Ropa\",\"(425, \\'des_Categoria\\')\":\"Juguetes\",\"(425, \\'des_Subcategoria\\')\":\"Juguetes\",\"(426, \\'des_Area\\')\":\"Ropa\",\"(426, \\'des_Categoria\\')\":\"Juguetes\",\"(426, \\'des_Subcategoria\\')\":\"Juguetes\",\"(427, \\'des_Area\\')\":\"Ropa\",\"(427, \\'des_Categoria\\')\":\"Juguetes\",\"(427, \\'des_Subcategoria\\')\":\"Juguetes\",\"(428, \\'des_Area\\')\":\"Ropa\",\"(428, \\'des_Categoria\\')\":\"Juguetes\",\"(428, \\'des_Subcategoria\\')\":\"Juguetes\",\"(429, \\'des_Area\\')\":\"Ropa\",\"(429, \\'des_Categoria\\')\":\"Juguetes\",\"(429, \\'des_Subcategoria\\')\":\"Juguetes\",\"(430, \\'des_Area\\')\":\"Ropa\",\"(430, \\'des_Categoria\\')\":\"Juguetes\",\"(430, \\'des_Subcategoria\\')\":\"Juguetes\",\"(431, \\'des_Area\\')\":\"Ropa\",\"(431, \\'des_Categoria\\')\":\"Juguetes\",\"(431, \\'des_Subcategoria\\')\":\"Juguetes\",\"(432, \\'des_Area\\')\":\"Ropa\",\"(432, \\'des_Categoria\\')\":\"Juguetes\",\"(432, \\'des_Subcategoria\\')\":\"Juguetes\",\"(433, \\'des_Area\\')\":\"Ropa\",\"(433, \\'des_Categoria\\')\":\"Juguetes\",\"(433, \\'des_Subcategoria\\')\":\"Juguetes\",\"(434, \\'des_Area\\')\":\"Ropa\",\"(434, \\'des_Categoria\\')\":\"Juguetes\",\"(434, \\'des_Subcategoria\\')\":\"Juguetes\",\"(435, \\'des_Area\\')\":\"Ropa\",\"(435, \\'des_Categoria\\')\":\"Juguetes\",\"(435, \\'des_Subcategoria\\')\":\"Juguetes\",\"(436, \\'des_Area\\')\":\"Ropa\",\"(436, \\'des_Categoria\\')\":\"Juguetes\",\"(436, \\'des_Subcategoria\\')\":\"Juguetes\",\"(437, \\'des_Area\\')\":\"Ropa\",\"(437, \\'des_Categoria\\')\":\"Juguetes\",\"(437, \\'des_Subcategoria\\')\":\"Juguetes\",\"(438, \\'des_Area\\')\":\"Ropa\",\"(438, \\'des_Categoria\\')\":\"Zapato Infantil\",\"(438, \\'des_Subcategoria\\')\":\"Zapato Infantil\",\"(439, \\'des_Area\\')\":\"Ropa\",\"(439, \\'des_Categoria\\')\":\"Zapato Infantil\",\"(439, \\'des_Subcategoria\\')\":\"Zapato Infantil\",\"(440, \\'des_Area\\')\":\"Ropa\",\"(440, \\'des_Categoria\\')\":\"Zapato Infantil\",\"(440, \\'des_Subcategoria\\')\":\"Zapato Infantil\",\"(441, \\'des_Area\\')\":\"Ropa\",\"(441, \\'des_Categoria\\')\":\"Zapato Infantil\",\"(441, \\'des_Subcategoria\\')\":\"Zapato Infantil\",\"(442, \\'des_Area\\')\":\"Ropa\",\"(442, \\'des_Categoria\\')\":\"Zapato Infantil\",\"(442, \\'des_Subcategoria\\')\":\"Zapato Infantil\",\"(443, \\'des_Area\\')\":\"Muebles\",\"(443, \\'des_Categoria\\')\":\"Enseres Dom\\\\u00e9sticos\",\"(443, \\'des_Subcategoria\\')\":\"Electrodom\\\\u00e9sticos\",\"(444, \\'des_Area\\')\":\"Muebles\",\"(444, \\'des_Categoria\\')\":\"Enseres Dom\\\\u00e9sticos\",\"(444, \\'des_Subcategoria\\')\":\"Electrodom\\\\u00e9sticos\"}'"
            ]
          },
          "execution_count": 45,
          "metadata": {},
          "output_type": "execute_result"
        }
      ],
      "source": [
        "deptos.stack().to_json(\n",
        "\n",
        ")"
      ]
    }
  ],
  "metadata": {
    "kernelspec": {
      "display_name": "venv",
      "language": "python",
      "name": "python3"
    },
    "language_info": {
      "codemirror_mode": {
        "name": "ipython",
        "version": 3
      },
      "file_extension": ".py",
      "mimetype": "text/x-python",
      "name": "python",
      "nbconvert_exporter": "python",
      "pygments_lexer": "ipython3",
      "version": "3.10.0rc2"
    },
    "colab": {
      "provenance": [],
      "toc_visible": true
    }
  },
  "nbformat": 4,
  "nbformat_minor": 0
}